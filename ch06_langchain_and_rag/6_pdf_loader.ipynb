{
 "cells": [
  {
   "cell_type": "markdown",
   "metadata": {},
   "source": [
    "# 다양한 PDF Loader"
   ]
  },
  {
   "cell_type": "markdown",
   "metadata": {},
   "source": [
    "## PyPDFLoader\n",
    "\n",
    "가장 많이 쓰이는 PDF Loader 로서 일반적으로 페이지 단위로 로드한다.  \n",
    "단, 페이지에 이미지만 있는 경우에는 이를 건너띄기도 한다."
   ]
  },
  {
   "cell_type": "code",
   "execution_count": 1,
   "metadata": {},
   "outputs": [],
   "source": [
    "import urllib.request\n",
    "from langchain.document_loaders import PyPDFLoader\n",
    "from langchain_community.document_loaders import PyMuPDFLoader\n",
    "from langchain.document_loaders import PDFPlumberLoader"
   ]
  },
  {
   "cell_type": "code",
   "execution_count": 2,
   "metadata": {},
   "outputs": [
    {
     "data": {
      "text/plain": [
       "('2023_북한인권보고서.pdf', <http.client.HTTPMessage at 0x7fc7caadce50>)"
      ]
     },
     "execution_count": 2,
     "metadata": {},
     "output_type": "execute_result"
    }
   ],
   "source": [
    "urllib.request.urlretrieve(\"https://github.com/chatgpt-kr/openai-api-tutorial/raw/main/ch06/2023_%EB%B6%81%ED%95%9C%EC%9D%B8%EA%B6%8C%EB%B3%B4%EA%B3%A0%EC%84%9C.pdf\", filename=\"2023_북한인권보고서.pdf\")"
   ]
  },
  {
   "cell_type": "code",
   "execution_count": 3,
   "metadata": {},
   "outputs": [
    {
     "name": "stdout",
     "output_type": "stream",
     "text": [
      "청크의 수: 445\n",
      "CPU times: user 10.4 s, sys: 30 ms, total: 10.4 s\n",
      "Wall time: 11.2 s\n"
     ]
    }
   ],
   "source": [
    "%%time\n",
    "loader = PyPDFLoader('2023_북한인권보고서.pdf')\n",
    "pages = loader.load_and_split()\n",
    "print('청크의 수:', len(pages))"
   ]
  },
  {
   "cell_type": "code",
   "execution_count": 4,
   "metadata": {},
   "outputs": [
    {
     "data": {
      "text/plain": [
       "Document(metadata={'source': '2023_북한인권보고서.pdf', 'page': 5}, page_content='2023 북한인권보고서\\n04\\n올해로 유엔의 북한인권조사위원회 출범 10년, 북한인권결의 채\\n택 20년이 됩니다. 그동안 우리는 물론 국제사회가 북한인권을 증진\\n하기 위해 노력해 왔지만, 휴전선 이북의 북녘 땅은 여전히 최악의 \\n인권 사각지대로 남아 있습니다. 우리와 피를 나눈 북한 동포들이 \\n최소한의 인간적인 삶을 누릴 수 있도록 책임감을 갖고 보다 실효적\\n인 노력을 펼쳐가야만 합니다. \\n2016년 제정된 북한인권법에 기반하여 설립된 북한인권기록센\\n터는 2017년부터 북한이탈주민을 대상으로 북한의 전반적인 인권\\n실태를 심층적으로 조사하였습니다. 또한 파악된 북한의 인권침해 \\n사례들을 ‘세계인권선언’과 ‘국제인권조약’의 기준에 따라 분류하였\\n습니다. 이번에 발간되는 「북한인권보고서」는 북한의 인권 상황을 \\n시민적·정치적 권리, 경제적·사회적·문화적 권리 등 다양한 측면에\\n서 입체적으로 조명하였습니다. 아울러, 여성·아동·장애인 등 취약\\n계층, 정치범수용소 및 국군포로·납북자·이산가족 등 특수 인권문\\n발간사')"
      ]
     },
     "execution_count": 4,
     "metadata": {},
     "output_type": "execute_result"
    }
   ],
   "source": [
    "pages[3]"
   ]
  },
  {
   "cell_type": "markdown",
   "metadata": {},
   "source": [
    "## PyMuPDFLoader\n",
    "\n",
    "속도가 다른 PDF Loader 보다 빠르며, 메타데이터가 PyPDFLoader 보다 훨씬 다양하다는 특징을 가지고 있다."
   ]
  },
  {
   "cell_type": "code",
   "execution_count": 6,
   "metadata": {},
   "outputs": [
    {
     "name": "stdout",
     "output_type": "stream",
     "text": [
      "Collecting pymupdf\n",
      "  Downloading pymupdf-1.25.1-cp39-abi3-manylinux2014_x86_64.manylinux_2_17_x86_64.whl.metadata (3.4 kB)\n",
      "Downloading pymupdf-1.25.1-cp39-abi3-manylinux2014_x86_64.manylinux_2_17_x86_64.whl (20.0 MB)\n",
      "\u001b[2K   \u001b[90m━━━━━━━━━━━━━━━━━━━━━━━━━━━━━━━━━━━━━━━━\u001b[0m \u001b[32m20.0/20.0 MB\u001b[0m \u001b[31m79.3 MB/s\u001b[0m eta \u001b[36m0:00:00\u001b[0ma \u001b[36m0:00:01\u001b[0m\n",
      "\u001b[?25hInstalling collected packages: pymupdf\n",
      "Successfully installed pymupdf-1.25.1\n"
     ]
    }
   ],
   "source": [
    "!pip install pymupdf"
   ]
  },
  {
   "cell_type": "code",
   "execution_count": 7,
   "metadata": {},
   "outputs": [
    {
     "name": "stderr",
     "output_type": "stream",
     "text": [
      "/home/haiqv/conda/envs/py310/lib/python3.10/site-packages/langchain_community/document_loaders/parsers/pdf.py:322: UserWarning: Warning: Empty content on page 1 of document 2023_북한인권보고서.pdf\n",
      "  warnings.warn(\n",
      "/home/haiqv/conda/envs/py310/lib/python3.10/site-packages/langchain_community/document_loaders/parsers/pdf.py:322: UserWarning: Warning: Empty content on page 3 of document 2023_북한인권보고서.pdf\n",
      "  warnings.warn(\n"
     ]
    },
    {
     "name": "stdout",
     "output_type": "stream",
     "text": [
      "청크의 수: 445\n",
      "CPU times: user 1.15 s, sys: 80.9 ms, total: 1.23 s\n",
      "Wall time: 1.23 s\n"
     ]
    },
    {
     "name": "stderr",
     "output_type": "stream",
     "text": [
      "/home/haiqv/conda/envs/py310/lib/python3.10/site-packages/langchain_community/document_loaders/parsers/pdf.py:322: UserWarning: Warning: Empty content on page 414 of document 2023_북한인권보고서.pdf\n",
      "  warnings.warn(\n"
     ]
    }
   ],
   "source": [
    "%%time\n",
    "loader = PyMuPDFLoader('2023_북한인권보고서.pdf')\n",
    "pages = loader.load_and_split()\n",
    "print('청크의 수:', len(pages))"
   ]
  },
  {
   "cell_type": "code",
   "execution_count": 8,
   "metadata": {},
   "outputs": [
    {
     "data": {
      "text/plain": [
       "Document(metadata={'source': '2023_북한인권보고서.pdf', 'file_path': '2023_북한인권보고서.pdf', 'page': 5, 'total_pages': 448, 'format': 'PDF 1.6', 'title': '', 'author': '', 'subject': '', 'keywords': '', 'creator': 'Adobe InDesign CS6 (Windows)', 'producer': 'Adobe PDF Library 10.0.1', 'creationDate': \"D:20230731135027+09'00'\", 'modDate': \"D:20230731135754+09'00'\", 'trapped': ''}, page_content='2023 북한인권보고서\\n04\\n올해로 유엔의 북한인권조사위원회 출범 10년, 북한인권결의 채\\n택 20년이 됩니다. 그동안 우리는 물론 국제사회가 북한인권을 증진\\n하기 위해 노력해 왔지만, 휴전선 이북의 북녘 땅은 여전히 최악의 \\n인권 사각지대로 남아 있습니다. 우리와 피를 나눈 북한 동포들이 \\n최소한의 인간적인 삶을 누릴 수 있도록 책임감을 갖고 보다 실효적\\n인 노력을 펼쳐가야만 합니다. \\n2016년 제정된 북한인권법에 기반하여 설립된 북한인권기록센\\n터는 2017년부터 북한이탈주민을 대상으로 북한의 전반적인 인권\\n실태를 심층적으로 조사하였습니다. 또한 파악된 북한의 인권침해 \\n사례들을 ‘세계인권선언’과 ‘국제인권조약’의 기준에 따라 분류하였\\n습니다. 이번에 발간되는 「북한인권보고서」는 북한의 인권 상황을 \\n시민적·정치적 권리, 경제적·사회적·문화적 권리 등 다양한 측면에\\n서 입체적으로 조명하였습니다. 아울러, 여성·아동·장애인 등 취약\\n계층, 정치범수용소 및 국군포로·납북자·이산가족 등 특수 인권문\\n발간사')"
      ]
     },
     "execution_count": 8,
     "metadata": {},
     "output_type": "execute_result"
    }
   ],
   "source": [
    "pages[3]"
   ]
  },
  {
   "cell_type": "code",
   "execution_count": 9,
   "metadata": {},
   "outputs": [
    {
     "data": {
      "text/plain": [
       "{'source': '2023_북한인권보고서.pdf',\n",
       " 'file_path': '2023_북한인권보고서.pdf',\n",
       " 'page': 5,\n",
       " 'total_pages': 448,\n",
       " 'format': 'PDF 1.6',\n",
       " 'title': '',\n",
       " 'author': '',\n",
       " 'subject': '',\n",
       " 'keywords': '',\n",
       " 'creator': 'Adobe InDesign CS6 (Windows)',\n",
       " 'producer': 'Adobe PDF Library 10.0.1',\n",
       " 'creationDate': \"D:20230731135027+09'00'\",\n",
       " 'modDate': \"D:20230731135754+09'00'\",\n",
       " 'trapped': ''}"
      ]
     },
     "execution_count": 9,
     "metadata": {},
     "output_type": "execute_result"
    }
   ],
   "source": [
    "pages[3].metadata"
   ]
  },
  {
   "cell_type": "markdown",
   "metadata": {},
   "source": [
    "## PDFPlumberLoader\n",
    "\n",
    "PyMuPDFLoader와 마찬가지로 metdata가 PyPDFLoader보다 훨씬 다양하지만, 읽기 속도가 상대적으로 느리다."
   ]
  },
  {
   "cell_type": "code",
   "execution_count": 11,
   "metadata": {},
   "outputs": [
    {
     "name": "stdout",
     "output_type": "stream",
     "text": [
      "Collecting pdfplumber\n",
      "  Downloading pdfplumber-0.11.5-py3-none-any.whl.metadata (42 kB)\n",
      "Collecting pdfminer.six==20231228 (from pdfplumber)\n",
      "  Downloading pdfminer.six-20231228-py3-none-any.whl.metadata (4.2 kB)\n",
      "Requirement already satisfied: Pillow>=9.1 in /home/haiqv/conda/envs/py310/lib/python3.10/site-packages (from pdfplumber) (10.4.0)\n",
      "Collecting pypdfium2>=4.18.0 (from pdfplumber)\n",
      "  Downloading pypdfium2-4.30.1-py3-none-manylinux_2_17_x86_64.manylinux2014_x86_64.whl.metadata (48 kB)\n",
      "Requirement already satisfied: charset-normalizer>=2.0.0 in /home/haiqv/conda/envs/py310/lib/python3.10/site-packages (from pdfminer.six==20231228->pdfplumber) (3.4.0)\n",
      "Collecting cryptography>=36.0.0 (from pdfminer.six==20231228->pdfplumber)\n",
      "  Downloading cryptography-44.0.0-cp39-abi3-manylinux_2_28_x86_64.whl.metadata (5.7 kB)\n",
      "Requirement already satisfied: cffi>=1.12 in /home/haiqv/conda/envs/py310/lib/python3.10/site-packages (from cryptography>=36.0.0->pdfminer.six==20231228->pdfplumber) (1.17.1)\n",
      "Requirement already satisfied: pycparser in /home/haiqv/conda/envs/py310/lib/python3.10/site-packages (from cffi>=1.12->cryptography>=36.0.0->pdfminer.six==20231228->pdfplumber) (2.22)\n",
      "Downloading pdfplumber-0.11.5-py3-none-any.whl (59 kB)\n",
      "Downloading pdfminer.six-20231228-py3-none-any.whl (5.6 MB)\n",
      "\u001b[2K   \u001b[90m━━━━━━━━━━━━━━━━━━━━━━━━━━━━━━━━━━━━━━━━\u001b[0m \u001b[32m5.6/5.6 MB\u001b[0m \u001b[31m88.0 MB/s\u001b[0m eta \u001b[36m0:00:00\u001b[0m\n",
      "\u001b[?25hDownloading pypdfium2-4.30.1-py3-none-manylinux_2_17_x86_64.manylinux2014_x86_64.whl (2.9 MB)\n",
      "\u001b[2K   \u001b[90m━━━━━━━━━━━━━━━━━━━━━━━━━━━━━━━━━━━━━━━━\u001b[0m \u001b[32m2.9/2.9 MB\u001b[0m \u001b[31m70.3 MB/s\u001b[0m eta \u001b[36m0:00:00\u001b[0m\n",
      "\u001b[?25hDownloading cryptography-44.0.0-cp39-abi3-manylinux_2_28_x86_64.whl (4.2 MB)\n",
      "\u001b[2K   \u001b[90m━━━━━━━━━━━━━━━━━━━━━━━━━━━━━━━━━━━━━━━━\u001b[0m \u001b[32m4.2/4.2 MB\u001b[0m \u001b[31m81.5 MB/s\u001b[0m eta \u001b[36m0:00:00\u001b[0m\n",
      "\u001b[?25hInstalling collected packages: pypdfium2, cryptography, pdfminer.six, pdfplumber\n",
      "Successfully installed cryptography-44.0.0 pdfminer.six-20231228 pdfplumber-0.11.5 pypdfium2-4.30.1\n"
     ]
    }
   ],
   "source": [
    "!pip install pdfplumber"
   ]
  },
  {
   "cell_type": "code",
   "execution_count": 12,
   "metadata": {},
   "outputs": [
    {
     "name": "stdout",
     "output_type": "stream",
     "text": [
      "청크의 수: 445\n",
      "CPU times: user 18.5 s, sys: 388 ms, total: 18.9 s\n",
      "Wall time: 20 s\n"
     ]
    }
   ],
   "source": [
    "%%time\n",
    "loader = PDFPlumberLoader('2023_북한인권보고서.pdf')\n",
    "pages = loader.load_and_split()\n",
    "print('청크의 수:', len(pages))"
   ]
  },
  {
   "cell_type": "code",
   "execution_count": null,
   "metadata": {},
   "outputs": [],
   "source": []
  }
 ],
 "metadata": {
  "language_info": {
   "name": "python"
  }
 },
 "nbformat": 4,
 "nbformat_minor": 2
}
