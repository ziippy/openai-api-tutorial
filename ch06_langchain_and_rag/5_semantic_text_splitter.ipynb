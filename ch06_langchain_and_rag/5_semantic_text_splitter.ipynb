{
 "cells": [
  {
   "cell_type": "markdown",
   "metadata": {},
   "source": [
    "# 의미를 반영하여 분할하는 SemanticChunker"
   ]
  },
  {
   "cell_type": "code",
   "execution_count": 1,
   "metadata": {},
   "outputs": [
    {
     "data": {
      "text/plain": [
       "True"
      ]
     },
     "execution_count": 1,
     "metadata": {},
     "output_type": "execute_result"
    }
   ],
   "source": [
    "from dotenv import load_dotenv\n",
    "load_dotenv(dotenv_path=\"../.env\")"
   ]
  },
  {
   "cell_type": "code",
   "execution_count": 2,
   "metadata": {},
   "outputs": [],
   "source": [
    "import urllib.request\n",
    "from langchain_openai.embeddings import OpenAIEmbeddings\n",
    "from langchain_experimental.text_splitter import SemanticChunker"
   ]
  },
  {
   "cell_type": "code",
   "execution_count": 3,
   "metadata": {},
   "outputs": [
    {
     "name": "stdout",
     "output_type": "stream",
     "text": [
      "텍스트의 길이: 18085369\n"
     ]
    }
   ],
   "source": [
    "\n",
    "urllib.request.urlretrieve(\"https://raw.githubusercontent.com/lovit/soynlp/master/tutorials/2016-10-20.txt\", filename=\"2016-10-20.txt\")\n",
    "\n",
    "with open(\"2016-10-20.txt\", encoding=\"utf-8\") as f:\n",
    "    file = f.read()\n",
    "print('텍스트의 길이:', len(file))"
   ]
  },
  {
   "cell_type": "code",
   "execution_count": 7,
   "metadata": {},
   "outputs": [
    {
     "name": "stdout",
     "output_type": "stream",
     "text": [
      "텍스트의 길이: 7460\n"
     ]
    }
   ],
   "source": [
    "urllib.request.urlretrieve(\"https://raw.githubusercontent.com/chatgpt-kr/openai-api-tutorial/main/ch06/test.txt\", filename=\"test.txt\")\n",
    "\n",
    "with open(\"test.txt\", encoding=\"utf-8\") as f:\n",
    "    file = f.read()\n",
    "print('텍스트의 길이:', len(file))"
   ]
  },
  {
   "cell_type": "code",
   "execution_count": 20,
   "metadata": {},
   "outputs": [
    {
     "name": "stdout",
     "output_type": "stream",
     "text": [
      "분할된 청크의 수: 19\n"
     ]
    }
   ],
   "source": [
    "from langchain.text_splitter import RecursiveCharacterTextSplitter\n",
    "\n",
    "text_splitter = RecursiveCharacterTextSplitter(chunk_size=500, chunk_overlap=0)\n",
    "texts = text_splitter.create_documents([file])\n",
    "print('분할된 청크의 수:', len(texts))"
   ]
  },
  {
   "cell_type": "code",
   "execution_count": 21,
   "metadata": {},
   "outputs": [
    {
     "data": {
      "text/plain": [
       "Document(metadata={}, page_content='한국의 한산한 어촌에서 세계로 뻗어나간 IT 전문가, 박민호의 여정\\n박민호는 한국의 동해안에 위치한 작은 어촌마을에서 태어났다. 그 마을은 바다와 맞닿아 있어 매일 아침 갈매기 소리와 함께 하루가 시작되는 곳이었다. 어릴 적 박민호는 종종 아버지의 낡은 어선을 바라보며 꿈을 키웠다. 그 꿈은 바다를 넘어 더 넓은 세상으로 나아가는 것이었다.\\n그는 어릴 때부터 탁월한 학습 능력을 보여주었다. 초등학교 시절부터 수학과 과학 분야에서 두각을 나타냈고, 중학교에 입학했을 때는 이미 고등학교 수준의 문제를 풀 수 있었다. 그의 재능은 곧 주변 사람들의 이목을 끌었고, 마을 사람들은 그를 가리켜 \"우리 마을의 자랑\"이라고 불렀다.')"
      ]
     },
     "execution_count": 21,
     "metadata": {},
     "output_type": "execute_result"
    }
   ],
   "source": [
    "texts[0]"
   ]
  },
  {
   "cell_type": "code",
   "execution_count": 22,
   "metadata": {},
   "outputs": [
    {
     "data": {
      "text/plain": [
       "Document(metadata={}, page_content=\"고등학교를 졸업하기 직전, 박민호는 전국에서 500명만이 받는다는 '대통령 과학 장학생'으로 선정되었다. 이 소식은 작은 어촌마을에 큰 파문을 일으켰다. 마을 사람들은 모두 그를 축하해 주었고, 어머니는 기쁨의 눈물을 흘렸다. 이 장학금은 1990년에 제정된 것으로, 과학 분야에서 뛰어난 성과를 보인 학생들에게 주어지는 상이었다.\\n박민호가 장학생으로 선정되었을 당시, 이 장학금은 정말 우수한 학생들에게만 주어졌다. 그러나 시간이 지나면서 영향력 있는 가정의 자녀들에게 주기 위해 부정이 개입되기도 했다는 소문이 돌았다. 이는 박민호에게 더 큰 자부심을 안겨주었다. 그는 자신의 능력으로 이 영예를 얻었다는 사실에 큰 긍지를 느꼈다.\")"
      ]
     },
     "execution_count": 22,
     "metadata": {},
     "output_type": "execute_result"
    }
   ],
   "source": [
    "texts[1]"
   ]
  },
  {
   "cell_type": "code",
   "execution_count": 23,
   "metadata": {},
   "outputs": [
    {
     "name": "stdout",
     "output_type": "stream",
     "text": [
      "분할된 청크의 수: 10\n"
     ]
    }
   ],
   "source": [
    "text_splitter = SemanticChunker(OpenAIEmbeddings())\n",
    "texts = text_splitter.create_documents([file])\n",
    "print('분할된 청크의 수:', len(texts))"
   ]
  },
  {
   "cell_type": "code",
   "execution_count": 24,
   "metadata": {},
   "outputs": [
    {
     "data": {
      "text/plain": [
       "Document(metadata={}, page_content='한국의 한산한 어촌에서 세계로 뻗어나간 IT 전문가, 박민호의 여정\\n박민호는 한국의 동해안에 위치한 작은 어촌마을에서 태어났다. 그 마을은 바다와 맞닿아 있어 매일 아침 갈매기 소리와 함께 하루가 시작되는 곳이었다. 어릴 적 박민호는 종종 아버지의 낡은 어선을 바라보며 꿈을 키웠다. 그 꿈은 바다를 넘어 더 넓은 세상으로 나아가는 것이었다. 그는 어릴 때부터 탁월한 학습 능력을 보여주었다. 초등학교 시절부터 수학과 과학 분야에서 두각을 나타냈고, 중학교에 입학했을 때는 이미 고등학교 수준의 문제를 풀 수 있었다. 그의 재능은 곧 주변 사람들의 이목을 끌었고, 마을 사람들은 그를 가리켜 \"우리 마을의 자랑\"이라고 불렀다. 고등학교를 졸업하기 직전, 박민호는 전국에서 500명만이 받는다는 \\'대통령 과학 장학생\\'으로 선정되었다. 이 소식은 작은 어촌마을에 큰 파문을 일으켰다. 마을 사람들은 모두 그를 축하해 주었고, 어머니는 기쁨의 눈물을 흘렸다. 이 장학금은 1990년에 제정된 것으로, 과학 분야에서 뛰어난 성과를 보인 학생들에게 주어지는 상이었다. 박민호가 장학생으로 선정되었을 당시, 이 장학금은 정말 우수한 학생들에게만 주어졌다. 그러나 시간이 지나면서 영향력 있는 가정의 자녀들에게 주기 위해 부정이 개입되기도 했다는 소문이 돌았다. 이는 박민호에게 더 큰 자부심을 안겨주었다.')"
      ]
     },
     "execution_count": 24,
     "metadata": {},
     "output_type": "execute_result"
    }
   ],
   "source": [
    "texts[0]"
   ]
  },
  {
   "cell_type": "markdown",
   "metadata": {},
   "source": [
    "### SemanticChunker 가 문서를 분할하는 방법은 크게 3가지가 있다.\n",
    "\n",
    "- 백분위수(Percentile) 방식: 기본값\n",
    "- 표준편차(Standard Deviation) 방식\n",
    "- 사분위수(Interquartile) 방식"
   ]
  },
  {
   "cell_type": "code",
   "execution_count": 25,
   "metadata": {},
   "outputs": [
    {
     "name": "stdout",
     "output_type": "stream",
     "text": [
      "분할된 청크의 수: 10\n"
     ]
    }
   ],
   "source": [
    "text_splitter = SemanticChunker(\n",
    "    OpenAIEmbeddings(),\n",
    "    breakpoint_threshold_type=\"percentile\",\n",
    "    breakpoint_threshold_amount=95,\n",
    ")\n",
    "texts = text_splitter.create_documents([file])\n",
    "print('분할된 청크의 수:', len(texts))"
   ]
  },
  {
   "cell_type": "code",
   "execution_count": 26,
   "metadata": {},
   "outputs": [
    {
     "name": "stdout",
     "output_type": "stream",
     "text": [
      "분할된 청크의 수: 3\n"
     ]
    }
   ],
   "source": [
    "text_splitter = SemanticChunker(\n",
    "    OpenAIEmbeddings(),\n",
    "    breakpoint_threshold_type=\"standard_deviation\",\n",
    "    breakpoint_threshold_amount=3,\n",
    ")\n",
    "texts = text_splitter.create_documents([file])\n",
    "print('분할된 청크의 수:', len(texts))"
   ]
  },
  {
   "cell_type": "code",
   "execution_count": 27,
   "metadata": {},
   "outputs": [
    {
     "name": "stdout",
     "output_type": "stream",
     "text": [
      "분할된 청크의 수: 7\n"
     ]
    }
   ],
   "source": [
    "text_splitter = SemanticChunker(\n",
    "    OpenAIEmbeddings(),\n",
    "    breakpoint_threshold_type=\"interquartile\",\n",
    "    breakpoint_threshold_amount=1.5\n",
    ")\n",
    "texts = text_splitter.create_documents([file])\n",
    "print('분할된 청크의 수:', len(texts))"
   ]
  },
  {
   "cell_type": "code",
   "execution_count": null,
   "metadata": {},
   "outputs": [],
   "source": []
  }
 ],
 "metadata": {
  "language_info": {
   "name": "python"
  }
 },
 "nbformat": 4,
 "nbformat_minor": 2
}
