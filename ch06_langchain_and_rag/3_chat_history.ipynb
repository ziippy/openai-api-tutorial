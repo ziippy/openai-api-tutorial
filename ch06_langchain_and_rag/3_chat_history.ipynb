{
 "cells": [
  {
   "cell_type": "markdown",
   "metadata": {},
   "source": [
    "# ChatOpenAI 와 Memory"
   ]
  },
  {
   "cell_type": "code",
   "execution_count": 1,
   "metadata": {},
   "outputs": [
    {
     "data": {
      "text/plain": [
       "True"
      ]
     },
     "execution_count": 1,
     "metadata": {},
     "output_type": "execute_result"
    }
   ],
   "source": [
    "from dotenv import load_dotenv\n",
    "load_dotenv(dotenv_path=\"../.env\")"
   ]
  },
  {
   "cell_type": "code",
   "execution_count": 2,
   "metadata": {},
   "outputs": [],
   "source": [
    "from langchain_core.prompts import PromptTemplate\n",
    "from langchain_openai import ChatOpenAI\n",
    "from langchain_core.runnables.history import RunnableWithMessageHistory\n",
    "from langchain_community.chat_message_histories import ChatMessageHistory\n",
    "from langchain.callbacks.tracers import ConsoleCallbackHandler"
   ]
  },
  {
   "cell_type": "code",
   "execution_count": 3,
   "metadata": {},
   "outputs": [
    {
     "name": "stdout",
     "output_type": "stream",
     "text": [
      "세종대왕은 조선의 제4대 왕으로, 본명은 이도입니다. 그는 1397년에 태어나 1418년부터 1450년까지 재위하였습니다. 세종대왕은 한국 역사상 가장 존경받는 군주 중 한 명으로, 그의 통치 기간 동안 많은 문화적, 과학적, 정치적 발전이 이루어졌습니다.\n",
      "\n",
      "가장 유명한 업적 중 하나는 한글의 창제입니다. 세종대왕은 백성들이 쉽게 읽고 쓸 수 있는 문자를 만들기 위해 훈민정음을 창제하였으며, 이는 오늘날 한국어의 근간이 되는 한글로 발전하였습니다. 이 외에도 세종대왕은 과학 기술의 발전을 장려하여 측우기, 해시계 등의 발명을 지원하였고, 농업과 의학 분야에서도 많은 개혁을 추진하였습니다.\n",
      "\n",
      "세종대왕은 또한 유교 이념을 바탕으로 한 통치 철학을 실천하며, 백성들의 생활을 개선하고 국가의 안정을 도모하였습니다. 그의 통치 아래 조선은 정치적 안정과 문화적 번영을 누렸으며, 이러한 이유로 세종대왕은 오늘날까지도 많은 사람들에게 존경받고 있습니다.\n"
     ]
    }
   ],
   "source": [
    "# 객체 생성\n",
    "llm = ChatOpenAI(\n",
    "    temperature=0.1,  # 창의성 (0.0 ~ 2.0)\n",
    "    max_tokens=2048,  # 최대 토큰수\n",
    "    model_name=\"gpt-4o\",  # 모델명\n",
    ")\n",
    "\n",
    "# 질의내용\n",
    "question = \"세종대왕이 누구인지 설명해주세요\"\n",
    "\n",
    "# 질의\n",
    "result = llm.invoke(question)\n",
    "print(result.content)"
   ]
  },
  {
   "cell_type": "code",
   "execution_count": 4,
   "metadata": {},
   "outputs": [
    {
     "name": "stdout",
     "output_type": "stream",
     "text": [
      "input_variables=['who'] input_types={} partial_variables={} template='{who}가 누구인지 설명해주세요'\n"
     ]
    }
   ],
   "source": [
    "# 질문 템플릿 형식 정의\n",
    "template = \"{who}가 누구인지 설명해주세요\"\n",
    "\n",
    "# 템플릿 완성\n",
    "prompt = PromptTemplate(\n",
    "        template=template, input_variables=['who']\n",
    "    )\n",
    "print(prompt)"
   ]
  },
  {
   "cell_type": "code",
   "execution_count": 5,
   "metadata": {},
   "outputs": [
    {
     "name": "stdout",
     "output_type": "stream",
     "text": [
      "오바마가 누구인지 설명해주세요\n"
     ]
    }
   ],
   "source": [
    "print(prompt.format(who=\"오바마\"))"
   ]
  },
  {
   "cell_type": "code",
   "execution_count": 6,
   "metadata": {},
   "outputs": [],
   "source": [
    "# 연결된 체인(Chain)객체 생성\n",
    "llm_chain = prompt | llm"
   ]
  },
  {
   "cell_type": "code",
   "execution_count": 7,
   "metadata": {},
   "outputs": [
    {
     "name": "stdout",
     "output_type": "stream",
     "text": [
      "content='이순신 장군은 조선 시대의 유명한 군인으로, 임진왜란 당시 조선 해군을 이끌며 큰 공을 세운 인물입니다. 1545년에 태어나 1598년에 전사한 이순신은 특히 해전에서 뛰어난 전략과 전술을 발휘하여 일본군의 침략을 막아냈습니다. 그의 가장 유명한 업적 중 하나는 1597년 명량 해전에서 13척의 배로 133척의 일본 함대를 물리친 것입니다. 이순신은 또한 거북선이라는 철갑선을 사용하여 해전에서 혁신적인 전술을 펼쳤습니다.\\n\\n이순신 장군은 그의 충성과 용맹함으로 인해 한국 역사에서 가장 존경받는 인물 중 하나로 남아 있으며, 그의 삶과 업적은 오늘날에도 많은 사람들에게 영감을 주고 있습니다. 그의 일기인 \"난중일기\"는 당시의 전쟁 상황과 그의 개인적인 생각을 엿볼 수 있는 중요한 사료로 평가받고 있습니다.' additional_kwargs={'refusal': None} response_metadata={'token_usage': {'completion_tokens': 230, 'prompt_tokens': 17, 'total_tokens': 247, 'completion_tokens_details': {'accepted_prediction_tokens': 0, 'audio_tokens': 0, 'reasoning_tokens': 0, 'rejected_prediction_tokens': 0}, 'prompt_tokens_details': {'audio_tokens': 0, 'cached_tokens': 0}}, 'model_name': 'gpt-4o-2024-08-06', 'system_fingerprint': 'fp_4691090a87', 'finish_reason': 'stop', 'logprobs': None} id='run-364cb23b-e610-4241-a533-392d97ebb3e7-0' usage_metadata={'input_tokens': 17, 'output_tokens': 230, 'total_tokens': 247, 'input_token_details': {'audio': 0, 'cache_read': 0}, 'output_token_details': {'audio': 0, 'reasoning': 0}}\n"
     ]
    }
   ],
   "source": [
    "result = llm_chain.invoke({\"who\":\"이순신 장군\"})\n",
    "print(result)"
   ]
  },
  {
   "cell_type": "code",
   "execution_count": 8,
   "metadata": {},
   "outputs": [
    {
     "name": "stdout",
     "output_type": "stream",
     "text": [
      "\u001b[32;1m\u001b[1;3m[chain/start]\u001b[0m \u001b[1m[chain:RunnableSequence] Entering Chain run with input:\n",
      "\u001b[0m{\n",
      "  \"who\": \"이순신 장군\"\n",
      "}\n",
      "\u001b[32;1m\u001b[1;3m[chain/start]\u001b[0m \u001b[1m[chain:RunnableSequence > prompt:PromptTemplate] Entering Prompt run with input:\n",
      "\u001b[0m{\n",
      "  \"who\": \"이순신 장군\"\n",
      "}\n",
      "\u001b[36;1m\u001b[1;3m[chain/end]\u001b[0m \u001b[1m[chain:RunnableSequence > prompt:PromptTemplate] [0ms] Exiting Prompt run with output:\n",
      "\u001b[0m[outputs]\n",
      "\u001b[32;1m\u001b[1;3m[llm/start]\u001b[0m \u001b[1m[chain:RunnableSequence > llm:ChatOpenAI] Entering LLM run with input:\n",
      "\u001b[0m{\n",
      "  \"prompts\": [\n",
      "    \"Human: 이순신 장군가 누구인지 설명해주세요\"\n",
      "  ]\n",
      "}\n",
      "\u001b[36;1m\u001b[1;3m[llm/end]\u001b[0m \u001b[1m[chain:RunnableSequence > llm:ChatOpenAI] [4.34s] Exiting LLM run with output:\n",
      "\u001b[0m{\n",
      "  \"generations\": [\n",
      "    [\n",
      "      {\n",
      "        \"text\": \"이순신 장군은 조선 시대의 유명한 군인으로, 임진왜란 당시 조선 수군을 이끌어 일본군을 상대로 여러 차례 승리를 거둔 인물입니다. 그는 1545년에 태어나 1598년에 사망하였습니다. 이순신은 특히 해전에서 뛰어난 전략과 전술을 발휘하여, 명량 해전과 한산도 대첩 등에서 결정적인 승리를 이끌었습니다. 그의 리더십과 용기는 조선의 국난 극복에 큰 기여를 했으며, 오늘날에도 한국에서 존경받는 역사적 인물로 남아 있습니다. 이순신은 또한 거북선이라는 철갑선을 활용하여 해전에서 혁신적인 전술을 펼친 것으로도 유명합니다. 그의 삶과 업적은 많은 문학 작품과 영화, 드라마 등에서 다루어지고 있습니다.\",\n",
      "        \"generation_info\": {\n",
      "          \"finish_reason\": \"stop\",\n",
      "          \"logprobs\": null\n",
      "        },\n",
      "        \"type\": \"ChatGeneration\",\n",
      "        \"message\": {\n",
      "          \"lc\": 1,\n",
      "          \"type\": \"constructor\",\n",
      "          \"id\": [\n",
      "            \"langchain\",\n",
      "            \"schema\",\n",
      "            \"messages\",\n",
      "            \"AIMessage\"\n",
      "          ],\n",
      "          \"kwargs\": {\n",
      "            \"content\": \"이순신 장군은 조선 시대의 유명한 군인으로, 임진왜란 당시 조선 수군을 이끌어 일본군을 상대로 여러 차례 승리를 거둔 인물입니다. 그는 1545년에 태어나 1598년에 사망하였습니다. 이순신은 특히 해전에서 뛰어난 전략과 전술을 발휘하여, 명량 해전과 한산도 대첩 등에서 결정적인 승리를 이끌었습니다. 그의 리더십과 용기는 조선의 국난 극복에 큰 기여를 했으며, 오늘날에도 한국에서 존경받는 역사적 인물로 남아 있습니다. 이순신은 또한 거북선이라는 철갑선을 활용하여 해전에서 혁신적인 전술을 펼친 것으로도 유명합니다. 그의 삶과 업적은 많은 문학 작품과 영화, 드라마 등에서 다루어지고 있습니다.\",\n",
      "            \"additional_kwargs\": {\n",
      "              \"refusal\": null\n",
      "            },\n",
      "            \"response_metadata\": {\n",
      "              \"token_usage\": {\n",
      "                \"completion_tokens\": 196,\n",
      "                \"prompt_tokens\": 17,\n",
      "                \"total_tokens\": 213,\n",
      "                \"completion_tokens_details\": {\n",
      "                  \"accepted_prediction_tokens\": 0,\n",
      "                  \"audio_tokens\": 0,\n",
      "                  \"reasoning_tokens\": 0,\n",
      "                  \"rejected_prediction_tokens\": 0\n",
      "                },\n",
      "                \"prompt_tokens_details\": {\n",
      "                  \"audio_tokens\": 0,\n",
      "                  \"cached_tokens\": 0\n",
      "                }\n",
      "              },\n",
      "              \"model_name\": \"gpt-4o-2024-08-06\",\n",
      "              \"system_fingerprint\": \"fp_4691090a87\",\n",
      "              \"finish_reason\": \"stop\",\n",
      "              \"logprobs\": null\n",
      "            },\n",
      "            \"type\": \"ai\",\n",
      "            \"id\": \"run-fe35220e-19e2-4a11-b788-67449cc8b3ef-0\",\n",
      "            \"usage_metadata\": {\n",
      "              \"input_tokens\": 17,\n",
      "              \"output_tokens\": 196,\n",
      "              \"total_tokens\": 213,\n",
      "              \"input_token_details\": {\n",
      "                \"audio\": 0,\n",
      "                \"cache_read\": 0\n",
      "              },\n",
      "              \"output_token_details\": {\n",
      "                \"audio\": 0,\n",
      "                \"reasoning\": 0\n",
      "              }\n",
      "            },\n",
      "            \"tool_calls\": [],\n",
      "            \"invalid_tool_calls\": []\n",
      "          }\n",
      "        }\n",
      "      }\n",
      "    ]\n",
      "  ],\n",
      "  \"llm_output\": {\n",
      "    \"token_usage\": {\n",
      "      \"completion_tokens\": 196,\n",
      "      \"prompt_tokens\": 17,\n",
      "      \"total_tokens\": 213,\n",
      "      \"completion_tokens_details\": {\n",
      "        \"accepted_prediction_tokens\": 0,\n",
      "        \"audio_tokens\": 0,\n",
      "        \"reasoning_tokens\": 0,\n",
      "        \"rejected_prediction_tokens\": 0\n",
      "      },\n",
      "      \"prompt_tokens_details\": {\n",
      "        \"audio_tokens\": 0,\n",
      "        \"cached_tokens\": 0\n",
      "      }\n",
      "    },\n",
      "    \"model_name\": \"gpt-4o-2024-08-06\",\n",
      "    \"system_fingerprint\": \"fp_4691090a87\"\n",
      "  },\n",
      "  \"run\": null,\n",
      "  \"type\": \"LLMResult\"\n",
      "}\n",
      "\u001b[36;1m\u001b[1;3m[chain/end]\u001b[0m \u001b[1m[chain:RunnableSequence] [4.34s] Exiting Chain run with output:\n",
      "\u001b[0m[outputs]\n"
     ]
    }
   ],
   "source": [
    "result = llm_chain.invoke({\"who\":\"이순신 장군\"},\n",
    "                          config={'callbacks': [ConsoleCallbackHandler()]})"
   ]
  },
  {
   "cell_type": "code",
   "execution_count": 9,
   "metadata": {},
   "outputs": [
    {
     "name": "stdout",
     "output_type": "stream",
     "text": [
      "input_variables=['history', 'input'] input_types={} partial_variables={} template='당신은 위키북스에서 만든 친절한 위키봇입니다.\\n\\nCurrent Conversation: {history}\\n\\nHuman: {input}\\n\\nAI:'\n"
     ]
    }
   ],
   "source": [
    "# 질문 템플릿 형식 정의\n",
    "template= \"\"\"당신은 위키북스에서 만든 친절한 위키봇입니다.\n",
    "\n",
    "Current Conversation: {history}\n",
    "\n",
    "Human: {input}\n",
    "\n",
    "AI:\"\"\"\n",
    "\n",
    "# 템플릿 완성\n",
    "prompt = PromptTemplate(\n",
    "        template=template, input_variables=['history', 'input']\n",
    "    )\n",
    "print(prompt)"
   ]
  },
  {
   "cell_type": "code",
   "execution_count": 10,
   "metadata": {},
   "outputs": [],
   "source": [
    "model = ChatOpenAI()\n",
    "chain = prompt | model"
   ]
  },
  {
   "cell_type": "code",
   "execution_count": 11,
   "metadata": {},
   "outputs": [],
   "source": [
    "store = {}"
   ]
  },
  {
   "cell_type": "code",
   "execution_count": 12,
   "metadata": {},
   "outputs": [],
   "source": [
    "session_id = \"test\""
   ]
  },
  {
   "cell_type": "code",
   "execution_count": 13,
   "metadata": {},
   "outputs": [],
   "source": [
    "# 세션 기록 가져오기\n",
    "if session_id not in store:\n",
    "    store[session_id] = ChatMessageHistory()\n",
    "\n",
    "session_history = store[session_id]  # 안전하게 세션 기록을 변수에 할당\n",
    "\n",
    "with_message_history = RunnableWithMessageHistory(\n",
    "    chain,\n",
    "    lambda session_id: session_history,  # 직접 참조를 반환하도록 수정\n",
    "    input_messages_key=\"input\",\n",
    "    history_messages_key=\"history\"\n",
    ")"
   ]
  },
  {
   "cell_type": "code",
   "execution_count": 14,
   "metadata": {},
   "outputs": [
    {
     "name": "stdout",
     "output_type": "stream",
     "text": [
      "저는 위키북스에서 만들어진 위키봇입니다. 어떤 도움이 필요하신가요?\n"
     ]
    }
   ],
   "source": [
    "# 주어진 메시지와 설정으로 체인을 실행합니다.\n",
    "result = with_message_history.invoke(\n",
    "    {\"input\": \"당신은 어디에서 만들었습니까?\"},\n",
    "    config={\"configurable\": {\"session_id\": \"test\"}},\n",
    ")\n",
    "print(result.content)"
   ]
  },
  {
   "cell_type": "code",
   "execution_count": 15,
   "metadata": {},
   "outputs": [
    {
     "name": "stdout",
     "output_type": "stream",
     "text": [
      "푸른 바다 너머로 햇살이 비추는 곳\n",
      "가만히 서서 바라보면 마음이 편해지는 곳\n"
     ]
    }
   ],
   "source": [
    "result = with_message_history.invoke(\n",
    "    {\"input\": \"푸른 바다를 주제로 감성적이고 짧은 시를 하나 지어주세요\"},\n",
    "    config={\"configurable\": {\"session_id\": \"test\"}},\n",
    ")\n",
    "print(result.content)"
   ]
  },
  {
   "cell_type": "code",
   "execution_count": 16,
   "metadata": {},
   "outputs": [
    {
     "name": "stdout",
     "output_type": "stream",
     "text": [
      "석양이 물들어가는 그 순간\\n하늘은 붉게 물들고\\n마음은 감동으로 가득 차는 곳.\n"
     ]
    }
   ],
   "source": [
    "result = with_message_history.invoke(\n",
    "    {\"input\": \"석양을 주제로도 해줘\"},\n",
    "    config={\"configurable\": {\"session_id\": \"test\"}},\n",
    ")\n",
    "print(result.content)"
   ]
  },
  {
   "cell_type": "code",
   "execution_count": 17,
   "metadata": {},
   "outputs": [
    {
     "name": "stdout",
     "output_type": "stream",
     "text": [
      "{'test': InMemoryChatMessageHistory(messages=[HumanMessage(content='당신은 어디에서 만들었습니까?', additional_kwargs={}, response_metadata={}), AIMessage(content='저는 위키북스에서 만들어진 위키봇입니다. 어떤 도움이 필요하신가요?', additional_kwargs={'refusal': None}, response_metadata={'token_usage': {'completion_tokens': 40, 'prompt_tokens': 57, 'total_tokens': 97, 'completion_tokens_details': {'accepted_prediction_tokens': 0, 'audio_tokens': 0, 'reasoning_tokens': 0, 'rejected_prediction_tokens': 0}, 'prompt_tokens_details': {'audio_tokens': 0, 'cached_tokens': 0}}, 'model_name': 'gpt-3.5-turbo-0125', 'system_fingerprint': None, 'finish_reason': 'stop', 'logprobs': None}, id='run-c3191dd6-0d62-42f4-9000-e43db5977896-0', usage_metadata={'input_tokens': 57, 'output_tokens': 40, 'total_tokens': 97, 'input_token_details': {'audio': 0, 'cache_read': 0}, 'output_token_details': {'audio': 0, 'reasoning': 0}}), HumanMessage(content='푸른 바다를 주제로 감성적이고 짧은 시를 하나 지어주세요', additional_kwargs={}, response_metadata={}), AIMessage(content='푸른 바다 너머로 햇살이 비추는 곳\\n가만히 서서 바라보면 마음이 편해지는 곳', additional_kwargs={'refusal': None}, response_metadata={'token_usage': {'completion_tokens': 48, 'prompt_tokens': 354, 'total_tokens': 402, 'completion_tokens_details': {'accepted_prediction_tokens': 0, 'audio_tokens': 0, 'reasoning_tokens': 0, 'rejected_prediction_tokens': 0}, 'prompt_tokens_details': {'audio_tokens': 0, 'cached_tokens': 0}}, 'model_name': 'gpt-3.5-turbo-0125', 'system_fingerprint': None, 'finish_reason': 'stop', 'logprobs': None}, id='run-d21f01df-d818-4e10-9bd4-4cfbee395a34-0', usage_metadata={'input_tokens': 354, 'output_tokens': 48, 'total_tokens': 402, 'input_token_details': {'audio': 0, 'cache_read': 0}, 'output_token_details': {'audio': 0, 'reasoning': 0}}), HumanMessage(content='석양을 주제로도 해줘', additional_kwargs={}, response_metadata={}), AIMessage(content='석양이 물들어가는 그 순간\\\\n하늘은 붉게 물들고\\\\n마음은 감동으로 가득 차는 곳.', additional_kwargs={'refusal': None}, response_metadata={'token_usage': {'completion_tokens': 48, 'prompt_tokens': 647, 'total_tokens': 695, 'completion_tokens_details': {'accepted_prediction_tokens': 0, 'audio_tokens': 0, 'reasoning_tokens': 0, 'rejected_prediction_tokens': 0}, 'prompt_tokens_details': {'audio_tokens': 0, 'cached_tokens': 0}}, 'model_name': 'gpt-3.5-turbo-0125', 'system_fingerprint': None, 'finish_reason': 'stop', 'logprobs': None}, id='run-76035539-3d4a-44cf-8159-a615d64edb25-0', usage_metadata={'input_tokens': 647, 'output_tokens': 48, 'total_tokens': 695, 'input_token_details': {'audio': 0, 'cache_read': 0}, 'output_token_details': {'audio': 0, 'reasoning': 0}})])}\n"
     ]
    }
   ],
   "source": [
    "print(store)"
   ]
  },
  {
   "cell_type": "code",
   "execution_count": null,
   "metadata": {},
   "outputs": [],
   "source": []
  }
 ],
 "metadata": {
  "language_info": {
   "name": "python"
  }
 },
 "nbformat": 4,
 "nbformat_minor": 2
}
