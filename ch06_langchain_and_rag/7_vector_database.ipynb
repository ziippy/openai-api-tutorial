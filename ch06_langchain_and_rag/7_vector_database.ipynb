{
 "cells": [
  {
   "cell_type": "markdown",
   "metadata": {},
   "source": [
    "# 벡터 데이터베이스\n",
    "\n",
    "가장 손쉽게 사용할 수 있는 Chroma(크로마)와 Faiss(파이스)를 소개한다."
   ]
  },
  {
   "cell_type": "code",
   "execution_count": null,
   "metadata": {},
   "outputs": [],
   "source": [
    "!pip install chromadb faiss-gpu"
   ]
  },
  {
   "cell_type": "code",
   "execution_count": 1,
   "metadata": {},
   "outputs": [
    {
     "data": {
      "text/plain": [
       "True"
      ]
     },
     "execution_count": 1,
     "metadata": {},
     "output_type": "execute_result"
    }
   ],
   "source": [
    "from dotenv import load_dotenv\n",
    "load_dotenv(dotenv_path=\"../.env\")"
   ]
  },
  {
   "cell_type": "markdown",
   "metadata": {},
   "source": [
    "## Chroma(크로마)"
   ]
  },
  {
   "cell_type": "code",
   "execution_count": 2,
   "metadata": {},
   "outputs": [],
   "source": [
    "import urllib.request\n",
    "from langchain.document_loaders import PyPDFLoader\n",
    "from langchain.text_splitter import RecursiveCharacterTextSplitter\n",
    "# from langchain.embeddings import OpenAIEmbeddings -> will be deprecated\n",
    "from langchain_openai import OpenAIEmbeddings\n",
    "from langchain.vectorstores import Chroma\n",
    "from langchain.vectorstores import FAISS"
   ]
  },
  {
   "cell_type": "markdown",
   "metadata": {},
   "source": [
    "#### 준비 사항\n",
    "\n",
    "- PDF를 로드하는 -> PyPDFLoader\n",
    "- 문서들을 다수의 청크로 분할하는 -> RecursiveCharacterTextSplitter\n",
    "- 청크들을 임베딩 벡터로 변환 시 OpenAI 의 Embedding API를 사용하기 위한 -> OpenAIEmbeddings\n",
    "- 임베딩 벡터를 적재하기 위한 벡터 데이터베이스 -> Chroma 또는 Faiss"
   ]
  },
  {
   "cell_type": "code",
   "execution_count": null,
   "metadata": {},
   "outputs": [],
   "source": [
    "urllib.request.urlretrieve(\"https://github.com/chatgpt-kr/openai-api-tutorial/raw/main/ch06/2023_%EB%B6%81%ED%95%9C%EC%9D%B8%EA%B6%8C%EB%B3%B4%EA%B3%A0%EC%84%9C.pdf\", filename=\"2023_북한인권보고서.pdf\")"
   ]
  },
  {
   "cell_type": "code",
   "execution_count": 3,
   "metadata": {},
   "outputs": [
    {
     "name": "stdout",
     "output_type": "stream",
     "text": [
      "청크의 수: 445\n"
     ]
    }
   ],
   "source": [
    "loader = PyPDFLoader('2023_북한인권보고서.pdf')\n",
    "pages = loader.load_and_split()\n",
    "print('청크의 수:', len(pages))"
   ]
  },
  {
   "cell_type": "code",
   "execution_count": 4,
   "metadata": {},
   "outputs": [],
   "source": [
    "text_splitter = RecursiveCharacterTextSplitter(chunk_size=1000, chunk_overlap=0)"
   ]
  },
  {
   "cell_type": "code",
   "execution_count": 5,
   "metadata": {},
   "outputs": [
    {
     "name": "stdout",
     "output_type": "stream",
     "text": [
      "분할된 청크의 수: 497\n"
     ]
    }
   ],
   "source": [
    "splited_docs = text_splitter.split_documents(pages)\n",
    "print('분할된 청크의 수:', len(splited_docs))"
   ]
  },
  {
   "cell_type": "code",
   "execution_count": 6,
   "metadata": {},
   "outputs": [
    {
     "name": "stdout",
     "output_type": "stream",
     "text": [
      "청크의 최대 길이 : 1000\n"
     ]
    }
   ],
   "source": [
    "chunks = [splited_doc.page_content for splited_doc in splited_docs]\n",
    "print('청크의 최대 길이 :',max(len(chunk) for chunk in chunks))"
   ]
  },
  {
   "cell_type": "code",
   "execution_count": 26,
   "metadata": {},
   "outputs": [],
   "source": [
    "del db\n",
    "del db_to_file"
   ]
  },
  {
   "cell_type": "code",
   "execution_count": 7,
   "metadata": {},
   "outputs": [
    {
     "name": "stdout",
     "output_type": "stream",
     "text": [
      "문서의 수: 497\n"
     ]
    }
   ],
   "source": [
    "db = Chroma.from_documents(splited_docs, OpenAIEmbeddings())\n",
    "print('문서의 수:', db._collection.count())"
   ]
  },
  {
   "cell_type": "code",
   "execution_count": 8,
   "metadata": {},
   "outputs": [
    {
     "name": "stdout",
     "output_type": "stream",
     "text": [
      "문서의 수: 4\n"
     ]
    }
   ],
   "source": [
    "question = '북한의 교육과정'\n",
    "docs = db.similarity_search(question)\n",
    "print('문서의 수:', len(docs))"
   ]
  },
  {
   "cell_type": "code",
   "execution_count": 9,
   "metadata": {},
   "outputs": [
    {
     "name": "stdout",
     "output_type": "stream",
     "text": [
      "page_content='2023 북한인권보고서\n",
      "40\n",
      "명목의 교육비용이 전가되고 있는 것으로 나타났다. 교과서는 ‘교과\n",
      "서 요금’이라는 명목으로 일정 금액을 내야하는 경우가 많으며, 교\n",
      "과서가 모든 학생에게 충분히 제공되지 않고 학년을 마치면 다음 학\n",
      "년에 교과서를 물려주어야 했다는 사례가 다수 수집되었다. 소학교\n",
      "부터 학교운영비, 꼬마계획 등의 비용을 내야했다는 진술이 꾸준히 \n",
      "수집되고 있는데, 학교시설 현대화 작업이 진행되면서 학교꾸리기 \n",
      "비용이 증가했다고 한다. 학교에서 요구하는 돈이나 물품은 교원에 \n",
      "의해 사실상 강제되고 있었는데, 비용을 내지 못하는 경우 동급생들 \n",
      "앞에서 망신을 주거나 비판하여 형편이 어려운 학생들은 학교를 그\n",
      "만두는 선택을 하는 경우가 많다고 한다. 또한 도시와 농촌 간 교육\n",
      "환경의 차이가 크며 대학입학에서 출신성분에 의한 차별이 있고, 교\n",
      "육기회의 제공에도 경제력이 영향을 미치고 있어 성분·지역·경제\n",
      "력에 따른 차별이 존재하는 것으로 나타났다. 교육환경도 열악한데, \n",
      "학교시설의 현대화 작업에도 불구하고 양호실, 도서관, 위생시설이 \n",
      "없는 학교도 많은 것으로 보인다. 교원에 대한 경제적 보상도 적절\n",
      "히 이루어지지 않아, 교원들은 생계를 유지하기 위해 잘사는 학부모\n",
      "의 원조를 받거나 자신의 텃밭에 학생을 동원시키고 있어 학생들은 \n",
      "제대로 된 교육여건을 보장받지 못하고 있는 것으로 나타났다. 또\n",
      "한, 일반교육보다 정치사상교육을 앞세우고 있으며 교과과정에 실\n",
      "탄사격을 하는 군사훈련을 편성하여 학생들을 의무적으로 참석하게 \n",
      "하고 있다.\n",
      "북한의 사회보장 제도로는 연로연금, 노동능력상실 연금, 유가족 \n",
      "연금 등 생계가 결핍된 경우 기초적인 생계를 보장하기 위한 연금제\n",
      "도가 있으며, 사회보험금의 성격을 지닌 보조금 제도가 있다. 연로' metadata={'page': 41, 'source': '2023_북한인권보고서.pdf'}\n",
      "--------------------\n",
      "page_content='309\t\t북한의\t학제는\t2012년\t전반적\t의무교육(유치원\t1년,\t소학교\t5년,\t초급중학교\t3년,\t고급중학교\t3년)으로\t\n",
      "개편되었는데,\t학제개편\t이전에는\t초급중학교와\t고급중학교를\t통합하여\t중학교\t6년\t과정(1972년~2011\n",
      "년)으로\t운영하였고,\t중학교\t또는\t고등중학교라고\t칭하였다.(통일부\t국립통일교육원,\t『북한의\t이해』,\t\n",
      "2022)' metadata={'page': 283, 'source': '2023_북한인권보고서.pdf'}\n",
      "--------------------\n",
      "page_content='2023 북한인권보고서\n",
      "342\n",
      "2018년에 학교에서 추천하여 소년궁전 스키부에 선발되었으나, 체\n",
      "육종합지도원이 자신의 출신성분이 좋지 않다는 이유로 선발명단에\n",
      "서 자신을 제외했다고 진술하였다. 정치범수용소에서는 이주민 자\n",
      "녀의 경우 정규교육과정을 받지 못한다는 증언도 있었다. 정치범수\n",
      "용소에도 소학교와 중학교가 있지만 일반 학교와는 달리 학생들이 \n",
      "책가방 대신 지게를 지고 출석하고 학교에서 농사짓는 법에 대해 배\n",
      "운다고 한다. \n",
      "북한에서는 대학 진학 시에도 출신성분에 따른 차별이 존재하는 \n",
      "것으로 나타났다. 한 증언자는 2019년에 고급중학교를 졸업하고 대\n",
      "학에 진학하려고 했는데, 본인 문건에 어머니가 행방불명으로 되어 \n",
      "있어 출신성분이 나쁘다는 이유로 대학에 진학할 수 없었다고 한다. \n",
      "이러한 차별행위는 교육부의 정책에 따른 것이라고 한다. 다른 증\n",
      "언자는 2018년에 의학대학에 진학하고 싶었는데, 교육과장과 면담\n",
      "하는 과정에서 ‘어머니가 행방불명이라 너 같은 아이는 대학에 가기 \n",
      "어렵다.’는 이야기를 듣고 대학 진학을 포기했다고 한다. 중학교 졸\n",
      "업 후 농민의 자식이라는 이유로 일반 대학뿐만 아니라 공업전문학\n",
      "교도 진학할 수 없었다는 증언도 있었다. \n",
      " \n",
      "(2) 경제력에 따른 차별 \n",
      "북한에서는 교육기회에 있어 경제력에 따른 차별이 존재하는 것\n",
      "으로 보인다. 수집된 증언에 따르면 무상교육제가 유명무실해진 상\n",
      "황에서 교육비 부담으로 경제적 취약계층의 아동들이 장기간 결석하\n",
      "거나 중도에 학교를 그만두는 것으로 나타났다. 한 증언자는 2018년\n",
      "에 아들이 소학교 학생이었는데, 당시 학급 정원의 25% 정도가 경제' metadata={'page': 343, 'source': '2023_북한인권보고서.pdf'}\n",
      "--------------------\n",
      "page_content='2023 북한인권보고서\n",
      "184\n",
      "데, 당국이 실시하는 반종교 교육을 통해 기독교를 접한 경우였다. 기\n",
      "독교 관련 북한당국의 반종교 교육은 학교 교과과정에서 뿐만 아니\n",
      "라 졸업 후 조직생활을 통해서도 이루어지고 있었다. 수집된 증언에 \n",
      "따르면 북한에서 반종교 교육을 받고 종교에 대한 부정적 인식이 증\n",
      "가했다고 한다. 기독교를 믿는 사람을 반동분자로 인식하고 있었다\n",
      "는 증언들도 있었다. 한 증언자는 2015년에 계급교양관을 1달에 1번\n",
      "씩 참관해야 했는데, 거기서 ‘종교는 침략자들이 북한에 가져온 것으\n",
      "로 그들이 성경도 가져왔다’는 내용이 포함된 반종교 교육을 받았다\n",
      "고 한다. 기독교인들은 제국주의적 침략의 앞잡이이므로 반민족적·\n",
      "반혁명적 적대계층이라는 내용도 있었다고 한다. 다른 증언자는 교육\n",
      "기관, 사회기관, 법기관에서 ‘종교는 허황된 것이고 거짓’이며 선교사\n",
      "는 악한 자라고 세뇌가 될 정도로 지속적으로 교육하기 때문에 감히 \n",
      "종교에 관심을 가질 생각도 하지 못했고 ‘선교사’라는 단어를 들으면 \n",
      "지금도 무섭다고 한다. 인민반 강연 등에서 기독교를 믿는 사람은 반\n",
      "동분자라고 하면서 이들을 보면 신고하라고 했다는 증언도 있었다. \n",
      "“주민들을 모아 놓고 교양하는 때가 있었는데, 그 때 처음 ‘성경책 \n",
      "사진, 예배하는 모습의 사진’을 본 적이 있습니다. 반동조직이라고 \n",
      "교육하면서 성경에는 미신에 관한 것이 적혀있어 이것을 읽게 되면 \n",
      "사상이 변질되니 이런 책을 주변에서 보게 되면 신고하라고 했습니\n",
      "다. 이들은 국가 반역자로 이 땅에서 사라져야 한다고 선전했습니\n",
      "다. 그래서 재북시 저 뿐만이 아니라 북한 주민들은 성경책이 북한 \n",
      "제도에 대해 안 좋게 적어놓은 책으로 알고 있었고 이를 소지하면 \n",
      "죽임을 당한다고 알고 있었습니다. ”\n",
      "북한에서 기독교를 탄압하는 이유는 기독교의 유일신 사상이 수\n",
      "령 우상화 정책과 주체사상에 반하기 때문이라고 한다. 한 증언자는' metadata={'page': 185, 'source': '2023_북한인권보고서.pdf'}\n",
      "--------------------\n"
     ]
    }
   ],
   "source": [
    "for doc in docs:\n",
    "  print(doc)\n",
    "  print('--' * 10)"
   ]
  },
  {
   "cell_type": "code",
   "execution_count": 17,
   "metadata": {},
   "outputs": [],
   "source": [
    "import shutil\n",
    "shutil.rmtree('./chroma_db', ignore_errors=True)"
   ]
  },
  {
   "cell_type": "code",
   "execution_count": 18,
   "metadata": {},
   "outputs": [
    {
     "name": "stdout",
     "output_type": "stream",
     "text": [
      "문서의 수: 497\n"
     ]
    }
   ],
   "source": [
    "# 파일로 저장\n",
    "db_to_file = Chroma.from_documents(splited_docs, OpenAIEmbeddings(), persist_directory = './chroma_db')\n",
    "print('문서의 수:', db_to_file._collection.count())"
   ]
  },
  {
   "cell_type": "code",
   "execution_count": 21,
   "metadata": {},
   "outputs": [
    {
     "name": "stdout",
     "output_type": "stream",
     "text": [
      "Requirement already satisfied: langchain in /home/haiqv/conda/envs/py310/lib/python3.10/site-packages (0.3.14)\n",
      "Collecting langchain-chroma\n",
      "  Downloading langchain_chroma-0.2.0-py3-none-any.whl.metadata (1.7 kB)\n",
      "Requirement already satisfied: PyYAML>=5.3 in /home/haiqv/conda/envs/py310/lib/python3.10/site-packages (from langchain) (6.0.2)\n",
      "Requirement already satisfied: SQLAlchemy<3,>=1.4 in /home/haiqv/conda/envs/py310/lib/python3.10/site-packages (from langchain) (2.0.36)\n",
      "Requirement already satisfied: aiohttp<4.0.0,>=3.8.3 in /home/haiqv/conda/envs/py310/lib/python3.10/site-packages (from langchain) (3.11.11)\n",
      "Requirement already satisfied: async-timeout<5.0.0,>=4.0.0 in /home/haiqv/conda/envs/py310/lib/python3.10/site-packages (from langchain) (4.0.3)\n",
      "Requirement already satisfied: langchain-core<0.4.0,>=0.3.29 in /home/haiqv/conda/envs/py310/lib/python3.10/site-packages (from langchain) (0.3.29)\n",
      "Requirement already satisfied: langchain-text-splitters<0.4.0,>=0.3.3 in /home/haiqv/conda/envs/py310/lib/python3.10/site-packages (from langchain) (0.3.5)\n",
      "Requirement already satisfied: langsmith<0.3,>=0.1.17 in /home/haiqv/conda/envs/py310/lib/python3.10/site-packages (from langchain) (0.2.10)\n",
      "Requirement already satisfied: numpy<2,>=1.22.4 in /home/haiqv/conda/envs/py310/lib/python3.10/site-packages (from langchain) (1.26.4)\n",
      "Requirement already satisfied: pydantic<3.0.0,>=2.7.4 in /home/haiqv/conda/envs/py310/lib/python3.10/site-packages (from langchain) (2.10.4)\n",
      "Requirement already satisfied: requests<3,>=2 in /home/haiqv/conda/envs/py310/lib/python3.10/site-packages (from langchain) (2.32.3)\n",
      "Requirement already satisfied: tenacity!=8.4.0,<10,>=8.1.0 in /home/haiqv/conda/envs/py310/lib/python3.10/site-packages (from langchain) (8.5.0)\n",
      "Requirement already satisfied: chromadb!=0.5.10,!=0.5.11,!=0.5.12,!=0.5.4,!=0.5.5,!=0.5.7,!=0.5.9,<0.6.0,>=0.4.0 in /home/haiqv/conda/envs/py310/lib/python3.10/site-packages (from langchain-chroma) (0.4.15)\n",
      "Requirement already satisfied: fastapi<1,>=0.95.2 in /home/haiqv/conda/envs/py310/lib/python3.10/site-packages (from langchain-chroma) (0.115.6)\n",
      "Requirement already satisfied: aiohappyeyeballs>=2.3.0 in /home/haiqv/conda/envs/py310/lib/python3.10/site-packages (from aiohttp<4.0.0,>=3.8.3->langchain) (2.4.4)\n",
      "Requirement already satisfied: aiosignal>=1.1.2 in /home/haiqv/conda/envs/py310/lib/python3.10/site-packages (from aiohttp<4.0.0,>=3.8.3->langchain) (1.3.2)\n",
      "Requirement already satisfied: attrs>=17.3.0 in /home/haiqv/conda/envs/py310/lib/python3.10/site-packages (from aiohttp<4.0.0,>=3.8.3->langchain) (24.3.0)\n",
      "Requirement already satisfied: frozenlist>=1.1.1 in /home/haiqv/conda/envs/py310/lib/python3.10/site-packages (from aiohttp<4.0.0,>=3.8.3->langchain) (1.5.0)\n",
      "Requirement already satisfied: multidict<7.0,>=4.5 in /home/haiqv/conda/envs/py310/lib/python3.10/site-packages (from aiohttp<4.0.0,>=3.8.3->langchain) (6.1.0)\n",
      "Requirement already satisfied: propcache>=0.2.0 in /home/haiqv/conda/envs/py310/lib/python3.10/site-packages (from aiohttp<4.0.0,>=3.8.3->langchain) (0.2.1)\n",
      "Requirement already satisfied: yarl<2.0,>=1.17.0 in /home/haiqv/conda/envs/py310/lib/python3.10/site-packages (from aiohttp<4.0.0,>=3.8.3->langchain) (1.18.3)\n",
      "Requirement already satisfied: chroma-hnswlib==0.7.3 in /home/haiqv/conda/envs/py310/lib/python3.10/site-packages (from chromadb!=0.5.10,!=0.5.11,!=0.5.12,!=0.5.4,!=0.5.5,!=0.5.7,!=0.5.9,<0.6.0,>=0.4.0->langchain-chroma) (0.7.3)\n",
      "Requirement already satisfied: uvicorn>=0.18.3 in /home/haiqv/conda/envs/py310/lib/python3.10/site-packages (from uvicorn[standard]>=0.18.3->chromadb!=0.5.10,!=0.5.11,!=0.5.12,!=0.5.4,!=0.5.5,!=0.5.7,!=0.5.9,<0.6.0,>=0.4.0->langchain-chroma) (0.34.0)\n",
      "Requirement already satisfied: posthog>=2.4.0 in /home/haiqv/conda/envs/py310/lib/python3.10/site-packages (from chromadb!=0.5.10,!=0.5.11,!=0.5.12,!=0.5.4,!=0.5.5,!=0.5.7,!=0.5.9,<0.6.0,>=0.4.0->langchain-chroma) (3.7.5)\n",
      "Requirement already satisfied: typing-extensions>=4.5.0 in /home/haiqv/conda/envs/py310/lib/python3.10/site-packages (from chromadb!=0.5.10,!=0.5.11,!=0.5.12,!=0.5.4,!=0.5.5,!=0.5.7,!=0.5.9,<0.6.0,>=0.4.0->langchain-chroma) (4.12.2)\n",
      "Requirement already satisfied: pulsar-client>=3.1.0 in /home/haiqv/conda/envs/py310/lib/python3.10/site-packages (from chromadb!=0.5.10,!=0.5.11,!=0.5.12,!=0.5.4,!=0.5.5,!=0.5.7,!=0.5.9,<0.6.0,>=0.4.0->langchain-chroma) (3.5.0)\n",
      "Requirement already satisfied: onnxruntime>=1.14.1 in /home/haiqv/conda/envs/py310/lib/python3.10/site-packages (from chromadb!=0.5.10,!=0.5.11,!=0.5.12,!=0.5.4,!=0.5.5,!=0.5.7,!=0.5.9,<0.6.0,>=0.4.0->langchain-chroma) (1.20.1)\n",
      "Requirement already satisfied: opentelemetry-api>=1.2.0 in /home/haiqv/conda/envs/py310/lib/python3.10/site-packages (from chromadb!=0.5.10,!=0.5.11,!=0.5.12,!=0.5.4,!=0.5.5,!=0.5.7,!=0.5.9,<0.6.0,>=0.4.0->langchain-chroma) (1.29.0)\n",
      "Requirement already satisfied: opentelemetry-exporter-otlp-proto-grpc>=1.2.0 in /home/haiqv/conda/envs/py310/lib/python3.10/site-packages (from chromadb!=0.5.10,!=0.5.11,!=0.5.12,!=0.5.4,!=0.5.5,!=0.5.7,!=0.5.9,<0.6.0,>=0.4.0->langchain-chroma) (1.29.0)\n",
      "Requirement already satisfied: opentelemetry-sdk>=1.2.0 in /home/haiqv/conda/envs/py310/lib/python3.10/site-packages (from chromadb!=0.5.10,!=0.5.11,!=0.5.12,!=0.5.4,!=0.5.5,!=0.5.7,!=0.5.9,<0.6.0,>=0.4.0->langchain-chroma) (1.29.0)\n",
      "Requirement already satisfied: tokenizers>=0.13.2 in /home/haiqv/conda/envs/py310/lib/python3.10/site-packages (from chromadb!=0.5.10,!=0.5.11,!=0.5.12,!=0.5.4,!=0.5.5,!=0.5.7,!=0.5.9,<0.6.0,>=0.4.0->langchain-chroma) (0.21.0)\n",
      "Requirement already satisfied: pypika>=0.48.9 in /home/haiqv/conda/envs/py310/lib/python3.10/site-packages (from chromadb!=0.5.10,!=0.5.11,!=0.5.12,!=0.5.4,!=0.5.5,!=0.5.7,!=0.5.9,<0.6.0,>=0.4.0->langchain-chroma) (0.48.9)\n",
      "Requirement already satisfied: tqdm>=4.65.0 in /home/haiqv/conda/envs/py310/lib/python3.10/site-packages (from chromadb!=0.5.10,!=0.5.11,!=0.5.12,!=0.5.4,!=0.5.5,!=0.5.7,!=0.5.9,<0.6.0,>=0.4.0->langchain-chroma) (4.67.1)\n",
      "Requirement already satisfied: overrides>=7.3.1 in /home/haiqv/conda/envs/py310/lib/python3.10/site-packages (from chromadb!=0.5.10,!=0.5.11,!=0.5.12,!=0.5.4,!=0.5.5,!=0.5.7,!=0.5.9,<0.6.0,>=0.4.0->langchain-chroma) (7.7.0)\n",
      "Requirement already satisfied: importlib-resources in /home/haiqv/conda/envs/py310/lib/python3.10/site-packages (from chromadb!=0.5.10,!=0.5.11,!=0.5.12,!=0.5.4,!=0.5.5,!=0.5.7,!=0.5.9,<0.6.0,>=0.4.0->langchain-chroma) (6.4.5)\n",
      "Requirement already satisfied: grpcio>=1.58.0 in /home/haiqv/conda/envs/py310/lib/python3.10/site-packages (from chromadb!=0.5.10,!=0.5.11,!=0.5.12,!=0.5.4,!=0.5.5,!=0.5.7,!=0.5.9,<0.6.0,>=0.4.0->langchain-chroma) (1.68.1)\n",
      "Requirement already satisfied: bcrypt>=4.0.1 in /home/haiqv/conda/envs/py310/lib/python3.10/site-packages (from chromadb!=0.5.10,!=0.5.11,!=0.5.12,!=0.5.4,!=0.5.5,!=0.5.7,!=0.5.9,<0.6.0,>=0.4.0->langchain-chroma) (4.2.1)\n",
      "Requirement already satisfied: typer>=0.9.0 in /home/haiqv/conda/envs/py310/lib/python3.10/site-packages (from chromadb!=0.5.10,!=0.5.11,!=0.5.12,!=0.5.4,!=0.5.5,!=0.5.7,!=0.5.9,<0.6.0,>=0.4.0->langchain-chroma) (0.15.1)\n",
      "Requirement already satisfied: kubernetes>=28.1.0 in /home/haiqv/conda/envs/py310/lib/python3.10/site-packages (from chromadb!=0.5.10,!=0.5.11,!=0.5.12,!=0.5.4,!=0.5.5,!=0.5.7,!=0.5.9,<0.6.0,>=0.4.0->langchain-chroma) (31.0.0)\n",
      "Requirement already satisfied: starlette<0.42.0,>=0.40.0 in /home/haiqv/conda/envs/py310/lib/python3.10/site-packages (from fastapi<1,>=0.95.2->langchain-chroma) (0.41.3)\n",
      "Requirement already satisfied: jsonpatch<2.0,>=1.33 in /home/haiqv/conda/envs/py310/lib/python3.10/site-packages (from langchain-core<0.4.0,>=0.3.29->langchain) (1.33)\n",
      "Requirement already satisfied: packaging<25,>=23.2 in /home/haiqv/conda/envs/py310/lib/python3.10/site-packages (from langchain-core<0.4.0,>=0.3.29->langchain) (23.2)\n",
      "Requirement already satisfied: httpx<1,>=0.23.0 in /home/haiqv/conda/envs/py310/lib/python3.10/site-packages (from langsmith<0.3,>=0.1.17->langchain) (0.28.1)\n",
      "Requirement already satisfied: orjson<4.0.0,>=3.9.14 in /home/haiqv/conda/envs/py310/lib/python3.10/site-packages (from langsmith<0.3,>=0.1.17->langchain) (3.10.13)\n",
      "Requirement already satisfied: requests-toolbelt<2.0.0,>=1.0.0 in /home/haiqv/conda/envs/py310/lib/python3.10/site-packages (from langsmith<0.3,>=0.1.17->langchain) (1.0.0)\n",
      "Requirement already satisfied: annotated-types>=0.6.0 in /home/haiqv/conda/envs/py310/lib/python3.10/site-packages (from pydantic<3.0.0,>=2.7.4->langchain) (0.7.0)\n",
      "Requirement already satisfied: pydantic-core==2.27.2 in /home/haiqv/conda/envs/py310/lib/python3.10/site-packages (from pydantic<3.0.0,>=2.7.4->langchain) (2.27.2)\n",
      "Requirement already satisfied: charset_normalizer<4,>=2 in /home/haiqv/conda/envs/py310/lib/python3.10/site-packages (from requests<3,>=2->langchain) (3.4.0)\n",
      "Requirement already satisfied: idna<4,>=2.5 in /home/haiqv/conda/envs/py310/lib/python3.10/site-packages (from requests<3,>=2->langchain) (3.10)\n",
      "Requirement already satisfied: urllib3<3,>=1.21.1 in /home/haiqv/conda/envs/py310/lib/python3.10/site-packages (from requests<3,>=2->langchain) (2.2.3)\n",
      "Requirement already satisfied: certifi>=2017.4.17 in /home/haiqv/conda/envs/py310/lib/python3.10/site-packages (from requests<3,>=2->langchain) (2024.12.14)\n",
      "Requirement already satisfied: greenlet!=0.4.17 in /home/haiqv/conda/envs/py310/lib/python3.10/site-packages (from SQLAlchemy<3,>=1.4->langchain) (3.1.1)\n",
      "Requirement already satisfied: anyio in /home/haiqv/conda/envs/py310/lib/python3.10/site-packages (from httpx<1,>=0.23.0->langsmith<0.3,>=0.1.17->langchain) (3.7.1)\n",
      "Requirement already satisfied: httpcore==1.* in /home/haiqv/conda/envs/py310/lib/python3.10/site-packages (from httpx<1,>=0.23.0->langsmith<0.3,>=0.1.17->langchain) (1.0.7)\n",
      "Requirement already satisfied: h11<0.15,>=0.13 in /home/haiqv/conda/envs/py310/lib/python3.10/site-packages (from httpcore==1.*->httpx<1,>=0.23.0->langsmith<0.3,>=0.1.17->langchain) (0.14.0)\n",
      "Requirement already satisfied: jsonpointer>=1.9 in /home/haiqv/conda/envs/py310/lib/python3.10/site-packages (from jsonpatch<2.0,>=1.33->langchain-core<0.4.0,>=0.3.29->langchain) (3.0.0)\n",
      "Requirement already satisfied: six>=1.9.0 in /home/haiqv/conda/envs/py310/lib/python3.10/site-packages (from kubernetes>=28.1.0->chromadb!=0.5.10,!=0.5.11,!=0.5.12,!=0.5.4,!=0.5.5,!=0.5.7,!=0.5.9,<0.6.0,>=0.4.0->langchain-chroma) (1.17.0)\n",
      "Requirement already satisfied: python-dateutil>=2.5.3 in /home/haiqv/conda/envs/py310/lib/python3.10/site-packages (from kubernetes>=28.1.0->chromadb!=0.5.10,!=0.5.11,!=0.5.12,!=0.5.4,!=0.5.5,!=0.5.7,!=0.5.9,<0.6.0,>=0.4.0->langchain-chroma) (2.9.0.post0)\n",
      "Requirement already satisfied: google-auth>=1.0.1 in /home/haiqv/conda/envs/py310/lib/python3.10/site-packages (from kubernetes>=28.1.0->chromadb!=0.5.10,!=0.5.11,!=0.5.12,!=0.5.4,!=0.5.5,!=0.5.7,!=0.5.9,<0.6.0,>=0.4.0->langchain-chroma) (2.37.0)\n",
      "Requirement already satisfied: websocket-client!=0.40.0,!=0.41.*,!=0.42.*,>=0.32.0 in /home/haiqv/conda/envs/py310/lib/python3.10/site-packages (from kubernetes>=28.1.0->chromadb!=0.5.10,!=0.5.11,!=0.5.12,!=0.5.4,!=0.5.5,!=0.5.7,!=0.5.9,<0.6.0,>=0.4.0->langchain-chroma) (1.8.0)\n",
      "Requirement already satisfied: requests-oauthlib in /home/haiqv/conda/envs/py310/lib/python3.10/site-packages (from kubernetes>=28.1.0->chromadb!=0.5.10,!=0.5.11,!=0.5.12,!=0.5.4,!=0.5.5,!=0.5.7,!=0.5.9,<0.6.0,>=0.4.0->langchain-chroma) (2.0.0)\n",
      "Requirement already satisfied: oauthlib>=3.2.2 in /home/haiqv/conda/envs/py310/lib/python3.10/site-packages (from kubernetes>=28.1.0->chromadb!=0.5.10,!=0.5.11,!=0.5.12,!=0.5.4,!=0.5.5,!=0.5.7,!=0.5.9,<0.6.0,>=0.4.0->langchain-chroma) (3.2.2)\n",
      "Requirement already satisfied: durationpy>=0.7 in /home/haiqv/conda/envs/py310/lib/python3.10/site-packages (from kubernetes>=28.1.0->chromadb!=0.5.10,!=0.5.11,!=0.5.12,!=0.5.4,!=0.5.5,!=0.5.7,!=0.5.9,<0.6.0,>=0.4.0->langchain-chroma) (0.9)\n",
      "Requirement already satisfied: coloredlogs in /home/haiqv/conda/envs/py310/lib/python3.10/site-packages (from onnxruntime>=1.14.1->chromadb!=0.5.10,!=0.5.11,!=0.5.12,!=0.5.4,!=0.5.5,!=0.5.7,!=0.5.9,<0.6.0,>=0.4.0->langchain-chroma) (15.0.1)\n",
      "Requirement already satisfied: flatbuffers in /home/haiqv/conda/envs/py310/lib/python3.10/site-packages (from onnxruntime>=1.14.1->chromadb!=0.5.10,!=0.5.11,!=0.5.12,!=0.5.4,!=0.5.5,!=0.5.7,!=0.5.9,<0.6.0,>=0.4.0->langchain-chroma) (24.12.23)\n",
      "Requirement already satisfied: protobuf in /home/haiqv/conda/envs/py310/lib/python3.10/site-packages (from onnxruntime>=1.14.1->chromadb!=0.5.10,!=0.5.11,!=0.5.12,!=0.5.4,!=0.5.5,!=0.5.7,!=0.5.9,<0.6.0,>=0.4.0->langchain-chroma) (5.29.2)\n",
      "Requirement already satisfied: sympy in /home/haiqv/conda/envs/py310/lib/python3.10/site-packages (from onnxruntime>=1.14.1->chromadb!=0.5.10,!=0.5.11,!=0.5.12,!=0.5.4,!=0.5.5,!=0.5.7,!=0.5.9,<0.6.0,>=0.4.0->langchain-chroma) (1.13.1)\n",
      "Requirement already satisfied: deprecated>=1.2.6 in /home/haiqv/conda/envs/py310/lib/python3.10/site-packages (from opentelemetry-api>=1.2.0->chromadb!=0.5.10,!=0.5.11,!=0.5.12,!=0.5.4,!=0.5.5,!=0.5.7,!=0.5.9,<0.6.0,>=0.4.0->langchain-chroma) (1.2.15)\n",
      "Requirement already satisfied: importlib-metadata<=8.5.0,>=6.0 in /home/haiqv/conda/envs/py310/lib/python3.10/site-packages (from opentelemetry-api>=1.2.0->chromadb!=0.5.10,!=0.5.11,!=0.5.12,!=0.5.4,!=0.5.5,!=0.5.7,!=0.5.9,<0.6.0,>=0.4.0->langchain-chroma) (8.5.0)\n",
      "Requirement already satisfied: googleapis-common-protos~=1.52 in /home/haiqv/conda/envs/py310/lib/python3.10/site-packages (from opentelemetry-exporter-otlp-proto-grpc>=1.2.0->chromadb!=0.5.10,!=0.5.11,!=0.5.12,!=0.5.4,!=0.5.5,!=0.5.7,!=0.5.9,<0.6.0,>=0.4.0->langchain-chroma) (1.66.0)\n",
      "Requirement already satisfied: opentelemetry-exporter-otlp-proto-common==1.29.0 in /home/haiqv/conda/envs/py310/lib/python3.10/site-packages (from opentelemetry-exporter-otlp-proto-grpc>=1.2.0->chromadb!=0.5.10,!=0.5.11,!=0.5.12,!=0.5.4,!=0.5.5,!=0.5.7,!=0.5.9,<0.6.0,>=0.4.0->langchain-chroma) (1.29.0)\n",
      "Requirement already satisfied: opentelemetry-proto==1.29.0 in /home/haiqv/conda/envs/py310/lib/python3.10/site-packages (from opentelemetry-exporter-otlp-proto-grpc>=1.2.0->chromadb!=0.5.10,!=0.5.11,!=0.5.12,!=0.5.4,!=0.5.5,!=0.5.7,!=0.5.9,<0.6.0,>=0.4.0->langchain-chroma) (1.29.0)\n",
      "Requirement already satisfied: opentelemetry-semantic-conventions==0.50b0 in /home/haiqv/conda/envs/py310/lib/python3.10/site-packages (from opentelemetry-sdk>=1.2.0->chromadb!=0.5.10,!=0.5.11,!=0.5.12,!=0.5.4,!=0.5.5,!=0.5.7,!=0.5.9,<0.6.0,>=0.4.0->langchain-chroma) (0.50b0)\n",
      "Requirement already satisfied: monotonic>=1.5 in /home/haiqv/conda/envs/py310/lib/python3.10/site-packages (from posthog>=2.4.0->chromadb!=0.5.10,!=0.5.11,!=0.5.12,!=0.5.4,!=0.5.5,!=0.5.7,!=0.5.9,<0.6.0,>=0.4.0->langchain-chroma) (1.6)\n",
      "Requirement already satisfied: backoff>=1.10.0 in /home/haiqv/conda/envs/py310/lib/python3.10/site-packages (from posthog>=2.4.0->chromadb!=0.5.10,!=0.5.11,!=0.5.12,!=0.5.4,!=0.5.5,!=0.5.7,!=0.5.9,<0.6.0,>=0.4.0->langchain-chroma) (2.2.1)\n",
      "Requirement already satisfied: huggingface-hub<1.0,>=0.16.4 in /home/haiqv/conda/envs/py310/lib/python3.10/site-packages (from tokenizers>=0.13.2->chromadb!=0.5.10,!=0.5.11,!=0.5.12,!=0.5.4,!=0.5.5,!=0.5.7,!=0.5.9,<0.6.0,>=0.4.0->langchain-chroma) (0.27.1)\n",
      "Requirement already satisfied: click>=8.0.0 in /home/haiqv/conda/envs/py310/lib/python3.10/site-packages (from typer>=0.9.0->chromadb!=0.5.10,!=0.5.11,!=0.5.12,!=0.5.4,!=0.5.5,!=0.5.7,!=0.5.9,<0.6.0,>=0.4.0->langchain-chroma) (8.1.8)\n",
      "Requirement already satisfied: shellingham>=1.3.0 in /home/haiqv/conda/envs/py310/lib/python3.10/site-packages (from typer>=0.9.0->chromadb!=0.5.10,!=0.5.11,!=0.5.12,!=0.5.4,!=0.5.5,!=0.5.7,!=0.5.9,<0.6.0,>=0.4.0->langchain-chroma) (1.5.4)\n",
      "Requirement already satisfied: rich>=10.11.0 in /home/haiqv/conda/envs/py310/lib/python3.10/site-packages (from typer>=0.9.0->chromadb!=0.5.10,!=0.5.11,!=0.5.12,!=0.5.4,!=0.5.5,!=0.5.7,!=0.5.9,<0.6.0,>=0.4.0->langchain-chroma) (13.9.4)\n",
      "Requirement already satisfied: httptools>=0.6.3 in /home/haiqv/conda/envs/py310/lib/python3.10/site-packages (from uvicorn[standard]>=0.18.3->chromadb!=0.5.10,!=0.5.11,!=0.5.12,!=0.5.4,!=0.5.5,!=0.5.7,!=0.5.9,<0.6.0,>=0.4.0->langchain-chroma) (0.6.4)\n",
      "Requirement already satisfied: python-dotenv>=0.13 in /home/haiqv/conda/envs/py310/lib/python3.10/site-packages (from uvicorn[standard]>=0.18.3->chromadb!=0.5.10,!=0.5.11,!=0.5.12,!=0.5.4,!=0.5.5,!=0.5.7,!=0.5.9,<0.6.0,>=0.4.0->langchain-chroma) (1.0.1)\n",
      "Requirement already satisfied: uvloop!=0.15.0,!=0.15.1,>=0.14.0 in /home/haiqv/conda/envs/py310/lib/python3.10/site-packages (from uvicorn[standard]>=0.18.3->chromadb!=0.5.10,!=0.5.11,!=0.5.12,!=0.5.4,!=0.5.5,!=0.5.7,!=0.5.9,<0.6.0,>=0.4.0->langchain-chroma) (0.21.0)\n",
      "Requirement already satisfied: watchfiles>=0.13 in /home/haiqv/conda/envs/py310/lib/python3.10/site-packages (from uvicorn[standard]>=0.18.3->chromadb!=0.5.10,!=0.5.11,!=0.5.12,!=0.5.4,!=0.5.5,!=0.5.7,!=0.5.9,<0.6.0,>=0.4.0->langchain-chroma) (1.0.3)\n",
      "Requirement already satisfied: websockets>=10.4 in /home/haiqv/conda/envs/py310/lib/python3.10/site-packages (from uvicorn[standard]>=0.18.3->chromadb!=0.5.10,!=0.5.11,!=0.5.12,!=0.5.4,!=0.5.5,!=0.5.7,!=0.5.9,<0.6.0,>=0.4.0->langchain-chroma) (14.1)\n",
      "Requirement already satisfied: sniffio>=1.1 in /home/haiqv/conda/envs/py310/lib/python3.10/site-packages (from anyio->httpx<1,>=0.23.0->langsmith<0.3,>=0.1.17->langchain) (1.3.1)\n",
      "Requirement already satisfied: exceptiongroup in /home/haiqv/conda/envs/py310/lib/python3.10/site-packages (from anyio->httpx<1,>=0.23.0->langsmith<0.3,>=0.1.17->langchain) (1.2.2)\n",
      "Requirement already satisfied: wrapt<2,>=1.10 in /home/haiqv/conda/envs/py310/lib/python3.10/site-packages (from deprecated>=1.2.6->opentelemetry-api>=1.2.0->chromadb!=0.5.10,!=0.5.11,!=0.5.12,!=0.5.4,!=0.5.5,!=0.5.7,!=0.5.9,<0.6.0,>=0.4.0->langchain-chroma) (1.17.0)\n",
      "Requirement already satisfied: cachetools<6.0,>=2.0.0 in /home/haiqv/conda/envs/py310/lib/python3.10/site-packages (from google-auth>=1.0.1->kubernetes>=28.1.0->chromadb!=0.5.10,!=0.5.11,!=0.5.12,!=0.5.4,!=0.5.5,!=0.5.7,!=0.5.9,<0.6.0,>=0.4.0->langchain-chroma) (5.5.0)\n",
      "Requirement already satisfied: pyasn1-modules>=0.2.1 in /home/haiqv/conda/envs/py310/lib/python3.10/site-packages (from google-auth>=1.0.1->kubernetes>=28.1.0->chromadb!=0.5.10,!=0.5.11,!=0.5.12,!=0.5.4,!=0.5.5,!=0.5.7,!=0.5.9,<0.6.0,>=0.4.0->langchain-chroma) (0.4.1)\n",
      "Requirement already satisfied: rsa<5,>=3.1.4 in /home/haiqv/conda/envs/py310/lib/python3.10/site-packages (from google-auth>=1.0.1->kubernetes>=28.1.0->chromadb!=0.5.10,!=0.5.11,!=0.5.12,!=0.5.4,!=0.5.5,!=0.5.7,!=0.5.9,<0.6.0,>=0.4.0->langchain-chroma) (4.9)\n",
      "Requirement already satisfied: filelock in /home/haiqv/conda/envs/py310/lib/python3.10/site-packages (from huggingface-hub<1.0,>=0.16.4->tokenizers>=0.13.2->chromadb!=0.5.10,!=0.5.11,!=0.5.12,!=0.5.4,!=0.5.5,!=0.5.7,!=0.5.9,<0.6.0,>=0.4.0->langchain-chroma) (3.16.1)\n",
      "Requirement already satisfied: fsspec>=2023.5.0 in /home/haiqv/conda/envs/py310/lib/python3.10/site-packages (from huggingface-hub<1.0,>=0.16.4->tokenizers>=0.13.2->chromadb!=0.5.10,!=0.5.11,!=0.5.12,!=0.5.4,!=0.5.5,!=0.5.7,!=0.5.9,<0.6.0,>=0.4.0->langchain-chroma) (2024.9.0)\n",
      "Requirement already satisfied: zipp>=3.20 in /home/haiqv/conda/envs/py310/lib/python3.10/site-packages (from importlib-metadata<=8.5.0,>=6.0->opentelemetry-api>=1.2.0->chromadb!=0.5.10,!=0.5.11,!=0.5.12,!=0.5.4,!=0.5.5,!=0.5.7,!=0.5.9,<0.6.0,>=0.4.0->langchain-chroma) (3.21.0)\n",
      "Requirement already satisfied: markdown-it-py>=2.2.0 in /home/haiqv/conda/envs/py310/lib/python3.10/site-packages (from rich>=10.11.0->typer>=0.9.0->chromadb!=0.5.10,!=0.5.11,!=0.5.12,!=0.5.4,!=0.5.5,!=0.5.7,!=0.5.9,<0.6.0,>=0.4.0->langchain-chroma) (2.2.0)\n",
      "Requirement already satisfied: pygments<3.0.0,>=2.13.0 in /home/haiqv/conda/envs/py310/lib/python3.10/site-packages (from rich>=10.11.0->typer>=0.9.0->chromadb!=0.5.10,!=0.5.11,!=0.5.12,!=0.5.4,!=0.5.5,!=0.5.7,!=0.5.9,<0.6.0,>=0.4.0->langchain-chroma) (2.18.0)\n",
      "Requirement already satisfied: humanfriendly>=9.1 in /home/haiqv/conda/envs/py310/lib/python3.10/site-packages (from coloredlogs->onnxruntime>=1.14.1->chromadb!=0.5.10,!=0.5.11,!=0.5.12,!=0.5.4,!=0.5.5,!=0.5.7,!=0.5.9,<0.6.0,>=0.4.0->langchain-chroma) (10.0)\n",
      "Requirement already satisfied: mpmath<1.4,>=1.1.0 in /home/haiqv/conda/envs/py310/lib/python3.10/site-packages (from sympy->onnxruntime>=1.14.1->chromadb!=0.5.10,!=0.5.11,!=0.5.12,!=0.5.4,!=0.5.5,!=0.5.7,!=0.5.9,<0.6.0,>=0.4.0->langchain-chroma) (1.3.0)\n",
      "Requirement already satisfied: mdurl~=0.1 in /home/haiqv/conda/envs/py310/lib/python3.10/site-packages (from markdown-it-py>=2.2.0->rich>=10.11.0->typer>=0.9.0->chromadb!=0.5.10,!=0.5.11,!=0.5.12,!=0.5.4,!=0.5.5,!=0.5.7,!=0.5.9,<0.6.0,>=0.4.0->langchain-chroma) (0.1.2)\n",
      "Requirement already satisfied: pyasn1<0.7.0,>=0.4.6 in /home/haiqv/conda/envs/py310/lib/python3.10/site-packages (from pyasn1-modules>=0.2.1->google-auth>=1.0.1->kubernetes>=28.1.0->chromadb!=0.5.10,!=0.5.11,!=0.5.12,!=0.5.4,!=0.5.5,!=0.5.7,!=0.5.9,<0.6.0,>=0.4.0->langchain-chroma) (0.6.1)\n",
      "Downloading langchain_chroma-0.2.0-py3-none-any.whl (11 kB)\n",
      "Installing collected packages: langchain-chroma\n",
      "Successfully installed langchain-chroma-0.2.0\n"
     ]
    }
   ],
   "source": [
    "!pip install -U langchain langchain-chroma"
   ]
  },
  {
   "cell_type": "code",
   "execution_count": 22,
   "metadata": {},
   "outputs": [],
   "source": [
    "db_from_file = Chroma(persist_directory='./chroma_db',\n",
    "\t\t      embedding_function=OpenAIEmbeddings())"
   ]
  },
  {
   "cell_type": "code",
   "execution_count": 23,
   "metadata": {},
   "outputs": [
    {
     "name": "stdout",
     "output_type": "stream",
     "text": [
      "문서의 수: 497\n"
     ]
    }
   ],
   "source": [
    "print('문서의 수:', db_from_file._collection.count())"
   ]
  },
  {
   "cell_type": "markdown",
   "metadata": {},
   "source": [
    "### 검색해보자"
   ]
  },
  {
   "cell_type": "code",
   "execution_count": 25,
   "metadata": {},
   "outputs": [
    {
     "name": "stdout",
     "output_type": "stream",
     "text": [
      "(Document(metadata={'page': 41, 'source': '2023_북한인권보고서.pdf'}, page_content='2023 북한인권보고서\\n40\\n명목의 교육비용이 전가되고 있는 것으로 나타났다. 교과서는 ‘교과\\n서 요금’이라는 명목으로 일정 금액을 내야하는 경우가 많으며, 교\\n과서가 모든 학생에게 충분히 제공되지 않고 학년을 마치면 다음 학\\n년에 교과서를 물려주어야 했다는 사례가 다수 수집되었다. 소학교\\n부터 학교운영비, 꼬마계획 등의 비용을 내야했다는 진술이 꾸준히 \\n수집되고 있는데, 학교시설 현대화 작업이 진행되면서 학교꾸리기 \\n비용이 증가했다고 한다. 학교에서 요구하는 돈이나 물품은 교원에 \\n의해 사실상 강제되고 있었는데, 비용을 내지 못하는 경우 동급생들 \\n앞에서 망신을 주거나 비판하여 형편이 어려운 학생들은 학교를 그\\n만두는 선택을 하는 경우가 많다고 한다. 또한 도시와 농촌 간 교육\\n환경의 차이가 크며 대학입학에서 출신성분에 의한 차별이 있고, 교\\n육기회의 제공에도 경제력이 영향을 미치고 있어 성분·지역·경제\\n력에 따른 차별이 존재하는 것으로 나타났다. 교육환경도 열악한데, \\n학교시설의 현대화 작업에도 불구하고 양호실, 도서관, 위생시설이 \\n없는 학교도 많은 것으로 보인다. 교원에 대한 경제적 보상도 적절\\n히 이루어지지 않아, 교원들은 생계를 유지하기 위해 잘사는 학부모\\n의 원조를 받거나 자신의 텃밭에 학생을 동원시키고 있어 학생들은 \\n제대로 된 교육여건을 보장받지 못하고 있는 것으로 나타났다. 또\\n한, 일반교육보다 정치사상교육을 앞세우고 있으며 교과과정에 실\\n탄사격을 하는 군사훈련을 편성하여 학생들을 의무적으로 참석하게 \\n하고 있다.\\n북한의 사회보장 제도로는 연로연금, 노동능력상실 연금, 유가족 \\n연금 등 생계가 결핍된 경우 기초적인 생계를 보장하기 위한 연금제\\n도가 있으며, 사회보험금의 성격을 지닌 보조금 제도가 있다. 연로'), 0.828519056218757)\n",
      "--------------------\n",
      "(Document(metadata={'page': 283, 'source': '2023_북한인권보고서.pdf'}, page_content='309\\t\\t북한의\\t학제는\\t2012년\\t전반적\\t의무교육(유치원\\t1년,\\t소학교\\t5년,\\t초급중학교\\t3년,\\t고급중학교\\t3년)으로\\t\\n개편되었는데,\\t학제개편\\t이전에는\\t초급중학교와\\t고급중학교를\\t통합하여\\t중학교\\t6년\\t과정(1972년~2011\\n년)으로\\t운영하였고,\\t중학교\\t또는\\t고등중학교라고\\t칭하였다.(통일부\\t국립통일교육원,\\t『북한의\\t이해』,\\t\\n2022)'), 0.8282070430992308)\n",
      "--------------------\n",
      "(Document(metadata={'page': 185, 'source': '2023_북한인권보고서.pdf'}, page_content='2023 북한인권보고서\\n184\\n데, 당국이 실시하는 반종교 교육을 통해 기독교를 접한 경우였다. 기\\n독교 관련 북한당국의 반종교 교육은 학교 교과과정에서 뿐만 아니\\n라 졸업 후 조직생활을 통해서도 이루어지고 있었다. 수집된 증언에 \\n따르면 북한에서 반종교 교육을 받고 종교에 대한 부정적 인식이 증\\n가했다고 한다. 기독교를 믿는 사람을 반동분자로 인식하고 있었다\\n는 증언들도 있었다. 한 증언자는 2015년에 계급교양관을 1달에 1번\\n씩 참관해야 했는데, 거기서 ‘종교는 침략자들이 북한에 가져온 것으\\n로 그들이 성경도 가져왔다’는 내용이 포함된 반종교 교육을 받았다\\n고 한다. 기독교인들은 제국주의적 침략의 앞잡이이므로 반민족적·\\n반혁명적 적대계층이라는 내용도 있었다고 한다. 다른 증언자는 교육\\n기관, 사회기관, 법기관에서 ‘종교는 허황된 것이고 거짓’이며 선교사\\n는 악한 자라고 세뇌가 될 정도로 지속적으로 교육하기 때문에 감히 \\n종교에 관심을 가질 생각도 하지 못했고 ‘선교사’라는 단어를 들으면 \\n지금도 무섭다고 한다. 인민반 강연 등에서 기독교를 믿는 사람은 반\\n동분자라고 하면서 이들을 보면 신고하라고 했다는 증언도 있었다. \\n“주민들을 모아 놓고 교양하는 때가 있었는데, 그 때 처음 ‘성경책 \\n사진, 예배하는 모습의 사진’을 본 적이 있습니다. 반동조직이라고 \\n교육하면서 성경에는 미신에 관한 것이 적혀있어 이것을 읽게 되면 \\n사상이 변질되니 이런 책을 주변에서 보게 되면 신고하라고 했습니\\n다. 이들은 국가 반역자로 이 땅에서 사라져야 한다고 선전했습니\\n다. 그래서 재북시 저 뿐만이 아니라 북한 주민들은 성경책이 북한 \\n제도에 대해 안 좋게 적어놓은 책으로 알고 있었고 이를 소지하면 \\n죽임을 당한다고 알고 있었습니다. ”\\n북한에서 기독교를 탄압하는 이유는 기독교의 유일신 사상이 수\\n령 우상화 정책과 주체사상에 반하기 때문이라고 한다. 한 증언자는'), 0.8263514648732659)\n",
      "--------------------\n"
     ]
    }
   ],
   "source": [
    "question = '북한의 교육 과정'\n",
    "docs = db_from_file.similarity_search_with_relevance_scores(question, k=3)\n",
    "\n",
    "for doc in docs:\n",
    "  print(doc)\n",
    "  print('--' * 10)"
   ]
  },
  {
   "cell_type": "markdown",
   "metadata": {},
   "source": [
    "## Faiss"
   ]
  },
  {
   "cell_type": "code",
   "execution_count": 26,
   "metadata": {},
   "outputs": [
    {
     "name": "stdout",
     "output_type": "stream",
     "text": [
      "문서의 수: 497\n"
     ]
    }
   ],
   "source": [
    "faiss_db = FAISS.from_documents(splited_docs, OpenAIEmbeddings())\n",
    "print('문서의 수:', faiss_db.index.ntotal)"
   ]
  },
  {
   "cell_type": "code",
   "execution_count": 27,
   "metadata": {},
   "outputs": [],
   "source": [
    "faiss_db.save_local('./faiss_db')\n",
    "\n",
    "new_db_faiss = FAISS.load_local('./faiss_db',\n",
    "\t\t\t\tOpenAIEmbeddings(),\n",
    "\t\t\t\tallow_dangerous_deserialization=True)"
   ]
  },
  {
   "cell_type": "markdown",
   "metadata": {},
   "source": [
    "### 검색해보자 - Faiss"
   ]
  },
  {
   "cell_type": "code",
   "execution_count": 28,
   "metadata": {},
   "outputs": [
    {
     "name": "stdout",
     "output_type": "stream",
     "text": [
      "page_content='2023 북한인권보고서\n",
      "40\n",
      "명목의 교육비용이 전가되고 있는 것으로 나타났다. 교과서는 ‘교과\n",
      "서 요금’이라는 명목으로 일정 금액을 내야하는 경우가 많으며, 교\n",
      "과서가 모든 학생에게 충분히 제공되지 않고 학년을 마치면 다음 학\n",
      "년에 교과서를 물려주어야 했다는 사례가 다수 수집되었다. 소학교\n",
      "부터 학교운영비, 꼬마계획 등의 비용을 내야했다는 진술이 꾸준히 \n",
      "수집되고 있는데, 학교시설 현대화 작업이 진행되면서 학교꾸리기 \n",
      "비용이 증가했다고 한다. 학교에서 요구하는 돈이나 물품은 교원에 \n",
      "의해 사실상 강제되고 있었는데, 비용을 내지 못하는 경우 동급생들 \n",
      "앞에서 망신을 주거나 비판하여 형편이 어려운 학생들은 학교를 그\n",
      "만두는 선택을 하는 경우가 많다고 한다. 또한 도시와 농촌 간 교육\n",
      "환경의 차이가 크며 대학입학에서 출신성분에 의한 차별이 있고, 교\n",
      "육기회의 제공에도 경제력이 영향을 미치고 있어 성분·지역·경제\n",
      "력에 따른 차별이 존재하는 것으로 나타났다. 교육환경도 열악한데, \n",
      "학교시설의 현대화 작업에도 불구하고 양호실, 도서관, 위생시설이 \n",
      "없는 학교도 많은 것으로 보인다. 교원에 대한 경제적 보상도 적절\n",
      "히 이루어지지 않아, 교원들은 생계를 유지하기 위해 잘사는 학부모\n",
      "의 원조를 받거나 자신의 텃밭에 학생을 동원시키고 있어 학생들은 \n",
      "제대로 된 교육여건을 보장받지 못하고 있는 것으로 나타났다. 또\n",
      "한, 일반교육보다 정치사상교육을 앞세우고 있으며 교과과정에 실\n",
      "탄사격을 하는 군사훈련을 편성하여 학생들을 의무적으로 참석하게 \n",
      "하고 있다.\n",
      "북한의 사회보장 제도로는 연로연금, 노동능력상실 연금, 유가족 \n",
      "연금 등 생계가 결핍된 경우 기초적인 생계를 보장하기 위한 연금제\n",
      "도가 있으며, 사회보험금의 성격을 지닌 보조금 제도가 있다. 연로' metadata={'source': '2023_북한인권보고서.pdf', 'page': 41}\n",
      "--------------------\n",
      "page_content='309\t\t북한의\t학제는\t2012년\t전반적\t의무교육(유치원\t1년,\t소학교\t5년,\t초급중학교\t3년,\t고급중학교\t3년)으로\t\n",
      "개편되었는데,\t학제개편\t이전에는\t초급중학교와\t고급중학교를\t통합하여\t중학교\t6년\t과정(1972년~2011\n",
      "년)으로\t운영하였고,\t중학교\t또는\t고등중학교라고\t칭하였다.(통일부\t국립통일교육원,\t『북한의\t이해』,\t\n",
      "2022)' metadata={'source': '2023_북한인권보고서.pdf', 'page': 283}\n",
      "--------------------\n",
      "page_content='2023 북한인권보고서\n",
      "184\n",
      "데, 당국이 실시하는 반종교 교육을 통해 기독교를 접한 경우였다. 기\n",
      "독교 관련 북한당국의 반종교 교육은 학교 교과과정에서 뿐만 아니\n",
      "라 졸업 후 조직생활을 통해서도 이루어지고 있었다. 수집된 증언에 \n",
      "따르면 북한에서 반종교 교육을 받고 종교에 대한 부정적 인식이 증\n",
      "가했다고 한다. 기독교를 믿는 사람을 반동분자로 인식하고 있었다\n",
      "는 증언들도 있었다. 한 증언자는 2015년에 계급교양관을 1달에 1번\n",
      "씩 참관해야 했는데, 거기서 ‘종교는 침략자들이 북한에 가져온 것으\n",
      "로 그들이 성경도 가져왔다’는 내용이 포함된 반종교 교육을 받았다\n",
      "고 한다. 기독교인들은 제국주의적 침략의 앞잡이이므로 반민족적·\n",
      "반혁명적 적대계층이라는 내용도 있었다고 한다. 다른 증언자는 교육\n",
      "기관, 사회기관, 법기관에서 ‘종교는 허황된 것이고 거짓’이며 선교사\n",
      "는 악한 자라고 세뇌가 될 정도로 지속적으로 교육하기 때문에 감히 \n",
      "종교에 관심을 가질 생각도 하지 못했고 ‘선교사’라는 단어를 들으면 \n",
      "지금도 무섭다고 한다. 인민반 강연 등에서 기독교를 믿는 사람은 반\n",
      "동분자라고 하면서 이들을 보면 신고하라고 했다는 증언도 있었다. \n",
      "“주민들을 모아 놓고 교양하는 때가 있었는데, 그 때 처음 ‘성경책 \n",
      "사진, 예배하는 모습의 사진’을 본 적이 있습니다. 반동조직이라고 \n",
      "교육하면서 성경에는 미신에 관한 것이 적혀있어 이것을 읽게 되면 \n",
      "사상이 변질되니 이런 책을 주변에서 보게 되면 신고하라고 했습니\n",
      "다. 이들은 국가 반역자로 이 땅에서 사라져야 한다고 선전했습니\n",
      "다. 그래서 재북시 저 뿐만이 아니라 북한 주민들은 성경책이 북한 \n",
      "제도에 대해 안 좋게 적어놓은 책으로 알고 있었고 이를 소지하면 \n",
      "죽임을 당한다고 알고 있었습니다. ”\n",
      "북한에서 기독교를 탄압하는 이유는 기독교의 유일신 사상이 수\n",
      "령 우상화 정책과 주체사상에 반하기 때문이라고 한다. 한 증언자는' metadata={'source': '2023_북한인권보고서.pdf', 'page': 185}\n",
      "--------------------\n"
     ]
    }
   ],
   "source": [
    "question = '북한의 교육 과정'\n",
    "docs = new_db_faiss.similarity_search(question, k=3)\n",
    "\n",
    "for doc in docs:\n",
    "  print(doc)\n",
    "  print('--' * 10)"
   ]
  },
  {
   "cell_type": "code",
   "execution_count": null,
   "metadata": {},
   "outputs": [],
   "source": []
  }
 ],
 "metadata": {
  "language_info": {
   "name": "python"
  }
 },
 "nbformat": 4,
 "nbformat_minor": 2
}
