{
 "cells": [
  {
   "cell_type": "code",
   "execution_count": 1,
   "metadata": {},
   "outputs": [
    {
     "name": "stdout",
     "output_type": "stream",
     "text": [
      "벡터1과 벡터2의 유사도 : 0.6666666666666667\n",
      "벡터1과 벡터3의 유사도 : 0.6666666666666667\n",
      "벡터2와 벡터3의 유사도 : 1.0000000000000002\n"
     ]
    }
   ],
   "source": [
    "import numpy as np\n",
    "from numpy import dot\n",
    "from numpy.linalg import norm\n",
    "\n",
    "def cos_sim(A, B):\n",
    "  return dot(A, B)/(norm(A)*norm(B))\n",
    "\n",
    "vec1 = np.array([0,1,1,1])\n",
    "vec2 = np.array([1,0,1,1])\n",
    "vec3 = np.array([2,0,2,2])\n",
    "\n",
    "print('벡터1과 벡터2의 유사도 :',cos_sim(vec1, vec2))\n",
    "print('벡터1과 벡터3의 유사도 :',cos_sim(vec1, vec3))\n",
    "print('벡터2와 벡터3의 유사도 :',cos_sim(vec2, vec3))"
   ]
  },
  {
   "cell_type": "code",
   "execution_count": null,
   "metadata": {},
   "outputs": [],
   "source": []
  }
 ],
 "metadata": {
  "language_info": {
   "name": "python"
  }
 },
 "nbformat": 4,
 "nbformat_minor": 2
}
